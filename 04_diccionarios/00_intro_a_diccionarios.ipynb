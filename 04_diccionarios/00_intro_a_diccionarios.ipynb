{
 "cells": [
  {
   "cell_type": "code",
   "execution_count": 1,
   "id": "72fde4d2-d150-443c-acd6-ad19b87fb38b",
   "metadata": {},
   "outputs": [],
   "source": [
    "# Diccionario: estructura de datos que almacenan datos de tipo clave-valor"
   ]
  },
  {
   "cell_type": "code",
   "execution_count": 2,
   "id": "bdea994e-8b78-4378-8552-eed2f6c9c3f1",
   "metadata": {},
   "outputs": [],
   "source": [
    "mi_diccionario_1 = {\"clave1\": \"valor1\", \"clave2\": \"valor2\"}"
   ]
  },
  {
   "cell_type": "code",
   "execution_count": 3,
   "id": "ab8165ee-fd86-4750-830d-4482d85b3ddf",
   "metadata": {},
   "outputs": [],
   "source": [
    "mis_datos = {\"Nombre\": \"Mirko\", \"edad\": 25}"
   ]
  },
  {
   "cell_type": "code",
   "execution_count": 4,
   "id": "033cf2dd-ee69-4b51-a16d-657b3b1edd56",
   "metadata": {},
   "outputs": [
    {
     "data": {
      "text/plain": [
       "{'Nombre': 'Mirko', 'edad': 25}"
      ]
     },
     "execution_count": 4,
     "metadata": {},
     "output_type": "execute_result"
    }
   ],
   "source": [
    "mis_datos"
   ]
  },
  {
   "cell_type": "code",
   "execution_count": 5,
   "id": "d2a0b0ae-15c8-4cce-bfec-00b56f122982",
   "metadata": {},
   "outputs": [
    {
     "data": {
      "text/plain": [
       "'Mirko'"
      ]
     },
     "execution_count": 5,
     "metadata": {},
     "output_type": "execute_result"
    }
   ],
   "source": [
    "mis_datos[\"Nombre\"]"
   ]
  },
  {
   "cell_type": "code",
   "execution_count": 8,
   "id": "5c1b03e2-c3ee-4515-8727-bb8676f16edb",
   "metadata": {},
   "outputs": [
    {
     "data": {
      "text/plain": [
       "25"
      ]
     },
     "execution_count": 8,
     "metadata": {},
     "output_type": "execute_result"
    }
   ],
   "source": [
    "mis_datos[\"edad\"]"
   ]
  },
  {
   "cell_type": "code",
   "execution_count": 7,
   "id": "3e99fcf1-dc44-4d2b-8d4c-2874fc1927d7",
   "metadata": {},
   "outputs": [
    {
     "data": {
      "text/plain": [
       "dict_keys(['Nombre', 'edad'])"
      ]
     },
     "execution_count": 7,
     "metadata": {},
     "output_type": "execute_result"
    }
   ],
   "source": [
    "# Método keys() : devuelve una lista con el nombre de todas las claves que hay en el diccionario\n",
    "mis_datos.keys()"
   ]
  },
  {
   "cell_type": "code",
   "execution_count": 9,
   "id": "44e013cf-792d-4552-bc4d-78ed9f91eee4",
   "metadata": {},
   "outputs": [
    {
     "data": {
      "text/plain": [
       "dict_values(['Mirko', 25])"
      ]
     },
     "execution_count": 9,
     "metadata": {},
     "output_type": "execute_result"
    }
   ],
   "source": [
    "# Método values() : Nos devuelve un array con los valores que hay en el diccionario\n",
    "mis_datos.values()"
   ]
  },
  {
   "cell_type": "code",
   "execution_count": 10,
   "id": "588428dd-048c-4112-ba37-c196c0809084",
   "metadata": {},
   "outputs": [],
   "source": [
    "# Recordar que a cada par clave-valor en un diccionario se lo llama item"
   ]
  },
  {
   "cell_type": "code",
   "execution_count": 11,
   "id": "654655b9-3927-4bb9-8526-4e3d773aed28",
   "metadata": {},
   "outputs": [
    {
     "data": {
      "text/plain": [
       "dict_items([('Nombre', 'Mirko'), ('edad', 25)])"
      ]
     },
     "execution_count": 11,
     "metadata": {},
     "output_type": "execute_result"
    }
   ],
   "source": [
    "mis_datos.items()"
   ]
  },
  {
   "cell_type": "code",
   "execution_count": null,
   "id": "23a2c772-2cb3-4962-8dcc-95d433f24cf4",
   "metadata": {},
   "outputs": [],
   "source": []
  }
 ],
 "metadata": {
  "kernelspec": {
   "display_name": "Python 3 (ipykernel)",
   "language": "python",
   "name": "python3"
  },
  "language_info": {
   "codemirror_mode": {
    "name": "ipython",
    "version": 3
   },
   "file_extension": ".py",
   "mimetype": "text/x-python",
   "name": "python",
   "nbconvert_exporter": "python",
   "pygments_lexer": "ipython3",
   "version": "3.12.7"
  }
 },
 "nbformat": 4,
 "nbformat_minor": 5
}
