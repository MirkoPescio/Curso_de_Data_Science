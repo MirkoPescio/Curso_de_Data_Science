{
 "cells": [
  {
   "cell_type": "code",
   "execution_count": 9,
   "id": "6797d23f-ccf0-45f7-999d-67f9469cabd2",
   "metadata": {},
   "outputs": [],
   "source": [
    "mis_datos = {\"nombre\": \"Mirko\", \"edad\": 25}"
   ]
  },
  {
   "cell_type": "code",
   "execution_count": 2,
   "id": "77d64669-df51-484e-b69c-f28c0470d2e8",
   "metadata": {},
   "outputs": [],
   "source": [
    "# Métodos para agregar y/o actualizar elementos:"
   ]
  },
  {
   "cell_type": "code",
   "execution_count": 10,
   "id": "ded6ec12-47cb-4eae-b593-232d3726698c",
   "metadata": {},
   "outputs": [],
   "source": [
    "# Para agregar un nuevo par clave-valor hay que 'indexar'\n",
    "mis_datos[\"estatura\"] = 1.70"
   ]
  },
  {
   "cell_type": "code",
   "execution_count": 8,
   "id": "222bc2e5-39d1-490d-99a7-17cceab6af53",
   "metadata": {},
   "outputs": [
    {
     "data": {
      "text/plain": [
       "{'Nombre': 'Mirko', 'edad': 25, 'estatura': 1.7}"
      ]
     },
     "execution_count": 8,
     "metadata": {},
     "output_type": "execute_result"
    }
   ],
   "source": [
    "mis_datos"
   ]
  },
  {
   "cell_type": "code",
   "execution_count": 11,
   "id": "2a7c3018-20e5-4b3f-accb-025fc644e4f9",
   "metadata": {},
   "outputs": [],
   "source": [
    "# Actualizar el valor de un item:\n",
    "mis_datos.update({\"nombre\": \"Mirko Pescio\"})"
   ]
  },
  {
   "cell_type": "code",
   "execution_count": 12,
   "id": "13ac730e-f907-44eb-92f0-56c328fba863",
   "metadata": {},
   "outputs": [
    {
     "data": {
      "text/plain": [
       "{'nombre': 'Mirko Pescio', 'edad': 25, 'estatura': 1.7}"
      ]
     },
     "execution_count": 12,
     "metadata": {},
     "output_type": "execute_result"
    }
   ],
   "source": [
    "mis_datos"
   ]
  },
  {
   "cell_type": "code",
   "execution_count": 13,
   "id": "043d7f28-40a2-4a67-9738-f0a79c8983e0",
   "metadata": {},
   "outputs": [],
   "source": [
    "mis_datos[\"lenguajes_programacion\"] = [\"Python\", \"Javascript\", \"SQL\", \"C\"]"
   ]
  },
  {
   "cell_type": "code",
   "execution_count": 14,
   "id": "81db6473-3028-47f9-92f3-a18ae049d492",
   "metadata": {},
   "outputs": [
    {
     "data": {
      "text/plain": [
       "{'nombre': 'Mirko Pescio',\n",
       " 'edad': 25,\n",
       " 'estatura': 1.7,\n",
       " 'lenguajes_programacion': ['Python', 'Javascript', 'SQL', 'C']}"
      ]
     },
     "execution_count": 14,
     "metadata": {},
     "output_type": "execute_result"
    }
   ],
   "source": [
    "mis_datos"
   ]
  },
  {
   "cell_type": "code",
   "execution_count": null,
   "id": "0055b33a-5a78-41b8-8983-9815cd25107d",
   "metadata": {},
   "outputs": [],
   "source": []
  },
  {
   "cell_type": "code",
   "execution_count": 19,
   "id": "01f5dcfc-a000-4a06-b127-7646c452d388",
   "metadata": {},
   "outputs": [],
   "source": [
    "# Para hacer una copia de un diccionario:\n",
    "# Método .copy()"
   ]
  },
  {
   "cell_type": "code",
   "execution_count": 20,
   "id": "0f0c54af-85c8-4943-93af-e5ceae467fc8",
   "metadata": {},
   "outputs": [],
   "source": [
    "mis_datos_copia = mis_datos.copy()"
   ]
  },
  {
   "cell_type": "code",
   "execution_count": 26,
   "id": "886c6b9c-27f6-440c-aec9-cb2f7fcc3556",
   "metadata": {},
   "outputs": [
    {
     "data": {
      "text/plain": [
       "{'nombre': 'Mirko Pescio',\n",
       " 'edad': 25,\n",
       " 'estatura': 1.7,\n",
       " 'lenguajes_programacion': ['Python', 'Javascript', 'SQL', 'C']}"
      ]
     },
     "execution_count": 26,
     "metadata": {},
     "output_type": "execute_result"
    }
   ],
   "source": [
    "mis_datos_copia"
   ]
  },
  {
   "cell_type": "code",
   "execution_count": null,
   "id": "e8d32a4f-7d21-400e-9629-28bf19c08ea0",
   "metadata": {},
   "outputs": [],
   "source": []
  },
  {
   "cell_type": "code",
   "execution_count": 27,
   "id": "701ff544-88df-4ee1-8b34-292c67fad3ab",
   "metadata": {},
   "outputs": [],
   "source": [
    "# Eliminar items. Hay distintos métodos:"
   ]
  },
  {
   "cell_type": "markdown",
   "id": "bc7c37fb-b772-475f-93f0-db8437f2eb17",
   "metadata": {},
   "source": []
  },
  {
   "cell_type": "code",
   "execution_count": 28,
   "id": "4ada1c52-e818-40c3-8283-1cd491da571e",
   "metadata": {},
   "outputs": [
    {
     "data": {
      "text/plain": [
       "1.7"
      ]
     },
     "execution_count": 28,
     "metadata": {},
     "output_type": "execute_result"
    }
   ],
   "source": [
    "mis_datos.pop(\"estatura\")"
   ]
  },
  {
   "cell_type": "code",
   "execution_count": 29,
   "id": "253f88ab-ecff-404e-bfdf-3840d5801a95",
   "metadata": {},
   "outputs": [
    {
     "data": {
      "text/plain": [
       "{'nombre': 'Mirko Pescio',\n",
       " 'edad': 25,\n",
       " 'lenguajes_programacion': ['Python', 'Javascript', 'SQL', 'C']}"
      ]
     },
     "execution_count": 29,
     "metadata": {},
     "output_type": "execute_result"
    }
   ],
   "source": [
    "mis_datos"
   ]
  },
  {
   "cell_type": "code",
   "execution_count": 30,
   "id": "68cced3f-cd68-4f58-a605-7380275d7e4c",
   "metadata": {},
   "outputs": [],
   "source": [
    "del mis_datos[\"edad\"]"
   ]
  },
  {
   "cell_type": "code",
   "execution_count": 31,
   "id": "93c519eb-5746-48fc-8ab8-e7cc5db99b86",
   "metadata": {},
   "outputs": [
    {
     "data": {
      "text/plain": [
       "{'nombre': 'Mirko Pescio',\n",
       " 'lenguajes_programacion': ['Python', 'Javascript', 'SQL', 'C']}"
      ]
     },
     "execution_count": 31,
     "metadata": {},
     "output_type": "execute_result"
    }
   ],
   "source": [
    "mis_datos"
   ]
  },
  {
   "cell_type": "code",
   "execution_count": 32,
   "id": "4b9619b4-106f-4793-87ca-40dd1cb45e01",
   "metadata": {},
   "outputs": [],
   "source": [
    "del mis_datos[\"lenguajes_programacion\"]"
   ]
  },
  {
   "cell_type": "code",
   "execution_count": 33,
   "id": "1a499de4-20e4-4bf8-83e8-d0b9c6398f1b",
   "metadata": {},
   "outputs": [
    {
     "data": {
      "text/plain": [
       "{'nombre': 'Mirko Pescio'}"
      ]
     },
     "execution_count": 33,
     "metadata": {},
     "output_type": "execute_result"
    }
   ],
   "source": [
    "mis_datos"
   ]
  },
  {
   "cell_type": "code",
   "execution_count": 34,
   "id": "df6c0106-e354-4bde-b7f4-f8fef300159d",
   "metadata": {},
   "outputs": [],
   "source": [
    "mis_datos[\"edad\"] = 25"
   ]
  },
  {
   "cell_type": "code",
   "execution_count": 35,
   "id": "451ef973-ab29-4b0d-97ee-ac4e7c024ed6",
   "metadata": {},
   "outputs": [],
   "source": [
    "mis_datos[\"lenguajes\"] = [\"español\", \"inglés\"]"
   ]
  },
  {
   "cell_type": "code",
   "execution_count": 36,
   "id": "e399b5d1-b4c5-46dd-afe7-929b5fff2b0b",
   "metadata": {},
   "outputs": [
    {
     "data": {
      "text/plain": [
       "{'nombre': 'Mirko Pescio', 'edad': 25, 'lenguajes': ['español', 'inglés']}"
      ]
     },
     "execution_count": 36,
     "metadata": {},
     "output_type": "execute_result"
    }
   ],
   "source": [
    "mis_datos"
   ]
  },
  {
   "cell_type": "code",
   "execution_count": 39,
   "id": "d12b3e32-b50a-43e7-99c8-c9a189e22b82",
   "metadata": {},
   "outputs": [],
   "source": [
    "# Para eliminar todo: método .clear()"
   ]
  },
  {
   "cell_type": "code",
   "execution_count": 40,
   "id": "e0e03885-dfc2-4ccf-b580-87c9af7cd353",
   "metadata": {},
   "outputs": [],
   "source": [
    "mis_datos.clear()"
   ]
  },
  {
   "cell_type": "code",
   "execution_count": null,
   "id": "42311e37-61ea-4c12-8bcc-22b4fbae96ff",
   "metadata": {},
   "outputs": [
    {
     "data": {
      "text/plain": [
       "{}"
      ]
     },
     "execution_count": 41,
     "metadata": {},
     "output_type": "execute_result"
    }
   ],
   "source": [
    "mis_datos"
   ]
  }
 ],
 "metadata": {
  "kernelspec": {
   "display_name": "Python 3 (ipykernel)",
   "language": "python",
   "name": "python3"
  },
  "language_info": {
   "codemirror_mode": {
    "name": "ipython",
    "version": 3
   },
   "file_extension": ".py",
   "mimetype": "text/x-python",
   "name": "python",
   "nbconvert_exporter": "python",
   "pygments_lexer": "ipython3",
   "version": "3.12.7"
  }
 },
 "nbformat": 4,
 "nbformat_minor": 5
}
