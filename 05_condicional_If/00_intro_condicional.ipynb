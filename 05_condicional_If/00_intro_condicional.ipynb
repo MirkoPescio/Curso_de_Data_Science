{
 "cells": [
  {
   "cell_type": "code",
   "execution_count": 1,
   "id": "e73f982c-cacb-4132-8e36-aca2ebb72a92",
   "metadata": {},
   "outputs": [],
   "source": [
    "# Condicional IF"
   ]
  },
  {
   "cell_type": "code",
   "execution_count": 2,
   "id": "0d58c058-42cb-4a9a-89a9-0a7331d873c0",
   "metadata": {},
   "outputs": [
    {
     "data": {
      "text/plain": [
       "'\\nif <condicion>\\n    <codigo>\\nelif <condicion>\\n    <codigo>\\nelse:\\n    <codigo>\\n'"
      ]
     },
     "execution_count": 2,
     "metadata": {},
     "output_type": "execute_result"
    }
   ],
   "source": [
    "# Estructura\n",
    "\"\"\"\n",
    "if <condicion>\n",
    "    <codigo>\n",
    "elif <condicion>\n",
    "    <codigo>\n",
    "else:\n",
    "    <codigo>\n",
    "\"\"\""
   ]
  },
  {
   "cell_type": "code",
   "execution_count": 5,
   "id": "1c33f829-974e-44fc-847a-929ab901b393",
   "metadata": {},
   "outputs": [
    {
     "name": "stdout",
     "output_type": "stream",
     "text": [
      "Es mayor de edad\n"
     ]
    }
   ],
   "source": [
    "edad_1 = 18\n",
    "\n",
    "if (edad_1 >= 18):\n",
    "    print(\"Es mayor de edad\")\n",
    "else:\n",
    "    print(\"Es menor de edad\")\n",
    "\n"
   ]
  },
  {
   "cell_type": "code",
   "execution_count": 6,
   "id": "f9928225-a6da-44d5-83e4-bd3558fbbb05",
   "metadata": {},
   "outputs": [
    {
     "name": "stdout",
     "output_type": "stream",
     "text": [
      "Es menor de edad\n"
     ]
    }
   ],
   "source": [
    "edad_2 = 15\n",
    "\n",
    "if (edad_2 >= 18):\n",
    "    print(\"Es mayor de edad\")\n",
    "else:\n",
    "    print(\"Es menor de edad\")"
   ]
  },
  {
   "cell_type": "code",
   "execution_count": 12,
   "id": "38fa4264-195b-4cb6-b60d-d93c604aa199",
   "metadata": {},
   "outputs": [
    {
     "name": "stdout",
     "output_type": "stream",
     "text": [
      "Clase media\n"
     ]
    }
   ],
   "source": [
    "salario = 750000\n",
    "min_clase_baja = 250000\n",
    "min_clase_media = 700000\n",
    "min_clase_alta = 1500000\n",
    "\n",
    "if (salario >= min_clase_alta):\n",
    "    print(\"Clase alta\")\n",
    "elif ((salario >= min_clase_media) and (salario < min_clase_alta)):\n",
    "    print(\"Clase media\")\n",
    "elif ((salario >= min_clase_baja) and (salario < min_clase_media)):\n",
    "    print(\"Clase baja\")\n",
    "else:\n",
    "    print(\"Pobreza o indigencia\")\n",
    "\n",
    "\n"
   ]
  },
  {
   "cell_type": "code",
   "execution_count": 16,
   "id": "1a2abba8-bbf4-4cc2-8201-a11872bbb68d",
   "metadata": {},
   "outputs": [
    {
     "name": "stdout",
     "output_type": "stream",
     "text": [
      "Adolescente\n"
     ]
    }
   ],
   "source": [
    "edad_3 = 13\n",
    "\n",
    "if (edad_3 >= 18):\n",
    "    print(\"Adulto\")\n",
    "elif (edad_3 >= 13):\n",
    "    print(\"Adolescente\")\n",
    "else:\n",
    "    print(\"Niño\")"
   ]
  },
  {
   "cell_type": "code",
   "execution_count": null,
   "id": "ce3e8efd-c835-476d-8ba9-dd1092f266c7",
   "metadata": {},
   "outputs": [],
   "source": []
  }
 ],
 "metadata": {
  "kernelspec": {
   "display_name": "Python 3 (ipykernel)",
   "language": "python",
   "name": "python3"
  },
  "language_info": {
   "codemirror_mode": {
    "name": "ipython",
    "version": 3
   },
   "file_extension": ".py",
   "mimetype": "text/x-python",
   "name": "python",
   "nbconvert_exporter": "python",
   "pygments_lexer": "ipython3",
   "version": "3.12.7"
  }
 },
 "nbformat": 4,
 "nbformat_minor": 5
}
