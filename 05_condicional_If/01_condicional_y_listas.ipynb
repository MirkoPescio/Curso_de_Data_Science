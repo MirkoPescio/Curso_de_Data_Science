{
 "cells": [
  {
   "cell_type": "code",
   "execution_count": 1,
   "id": "e81cf2e2-2c97-4003-9ee4-763ccb75e683",
   "metadata": {},
   "outputs": [],
   "source": [
    "lista_paises = [\"Argentina\", \"Estados Unidos\", \"Polonia\", \"España\"]"
   ]
  },
  {
   "cell_type": "code",
   "execution_count": 2,
   "id": "7d598e5f-13fb-4329-a741-d533eec540e4",
   "metadata": {},
   "outputs": [],
   "source": [
    "# Si queremos saber si un elemento está en la lista:"
   ]
  },
  {
   "cell_type": "code",
   "execution_count": 3,
   "id": "c545aa7c-851b-4be0-9ea8-0ecce6cb0427",
   "metadata": {},
   "outputs": [
    {
     "name": "stdout",
     "output_type": "stream",
     "text": [
      "El pais se encuentra en la lista\n"
     ]
    }
   ],
   "source": [
    "if (\"Polonia\") in lista_paises:\n",
    "    print(\"El pais se encuentra en la lista\")\n",
    "else:\n",
    "    print(\"El pais NO está en la lista\")\n",
    "\n"
   ]
  },
  {
   "cell_type": "code",
   "execution_count": 4,
   "id": "2ec68335-e0ee-4157-a742-0b1e264e8d6e",
   "metadata": {},
   "outputs": [
    {
     "name": "stdout",
     "output_type": "stream",
     "text": [
      "El pais se encuentra en la lista\n"
     ]
    }
   ],
   "source": [
    "if (\"España\") in lista_paises:\n",
    "    print(\"El pais se encuentra en la lista\")\n",
    "else:\n",
    "    print(\"El pais NO está en la lista\")\n"
   ]
  },
  {
   "cell_type": "code",
   "execution_count": 5,
   "id": "f1423031-f6c6-4e1e-aaa5-c511ab454880",
   "metadata": {},
   "outputs": [
    {
     "name": "stdout",
     "output_type": "stream",
     "text": [
      "El pais NO está en la lista\n"
     ]
    }
   ],
   "source": [
    "if (\"Chile\") in lista_paises:\n",
    "    print(\"El pais se encuentra en la lista\")\n",
    "else:\n",
    "    print(\"El pais NO está en la lista\")\n"
   ]
  },
  {
   "cell_type": "code",
   "execution_count": null,
   "id": "6ac4c5fe-8c59-496d-b397-d547d88ed5d5",
   "metadata": {},
   "outputs": [],
   "source": []
  }
 ],
 "metadata": {
  "kernelspec": {
   "display_name": "Python 3 (ipykernel)",
   "language": "python",
   "name": "python3"
  },
  "language_info": {
   "codemirror_mode": {
    "name": "ipython",
    "version": 3
   },
   "file_extension": ".py",
   "mimetype": "text/x-python",
   "name": "python",
   "nbconvert_exporter": "python",
   "pygments_lexer": "ipython3",
   "version": "3.12.7"
  }
 },
 "nbformat": 4,
 "nbformat_minor": 5
}
