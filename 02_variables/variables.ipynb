{
 "cells": [
  {
   "cell_type": "code",
   "execution_count": 1,
   "id": "aaaa49a5-ebb6-426f-b618-540a91f7aa5d",
   "metadata": {},
   "outputs": [
    {
     "name": "stdout",
     "output_type": "stream",
     "text": [
      "Estoy aprendiendo Python\n"
     ]
    }
   ],
   "source": [
    "# Una variable contiene un valor el cual es la informacion asociada a la variable\n",
    "\n",
    "mensaje_1 = \"Estoy aprendiendo Python\"\n",
    "print(mensaje_1)"
   ]
  },
  {
   "cell_type": "code",
   "execution_count": 2,
   "id": "ed0e3449-b427-4341-bfb3-b01cf1c816ef",
   "metadata": {},
   "outputs": [],
   "source": [
    "mensaje_2 = \"Solapa: aprendizaje de variables\""
   ]
  },
  {
   "cell_type": "code",
   "execution_count": 3,
   "id": "5ee6282a-d4e0-48ef-ace3-1769ea5ba3b0",
   "metadata": {},
   "outputs": [
    {
     "data": {
      "text/plain": [
       "'Solapa: aprendizaje de variables'"
      ]
     },
     "execution_count": 3,
     "metadata": {},
     "output_type": "execute_result"
    }
   ],
   "source": [
    "mensaje_2"
   ]
  },
  {
   "cell_type": "code",
   "execution_count": 4,
   "id": "48233726-a0fe-418f-b687-1236f60f8c1a",
   "metadata": {},
   "outputs": [
    {
     "name": "stdout",
     "output_type": "stream",
     "text": [
      "I'm learning Python\n"
     ]
    }
   ],
   "source": [
    "# Recomendación para el uso de comillas en los strings\n",
    "# Por ejemplo: casos que se usa comilla simple para cadenas en inglés\n",
    "\n",
    "string_1 = \"I'm learning Python\"\n",
    "print(string_1)"
   ]
  },
  {
   "cell_type": "code",
   "execution_count": 5,
   "id": "317981eb-7ae3-462e-afac-71fa347f464a",
   "metadata": {},
   "outputs": [],
   "source": [
    "# Vamos a ver la concatenación de cadenas\n",
    "\n",
    "mensaje_3 = \"Soy bueno en matemáticas y física\"\n",
    "mensaje_4 = \"pero bastante malo para química\""
   ]
  },
  {
   "cell_type": "code",
   "execution_count": 6,
   "id": "3cf57c15-6b2c-4496-be5f-62cb69269506",
   "metadata": {},
   "outputs": [
    {
     "data": {
      "text/plain": [
       "'Soy bueno en matemáticas y física pero bastante malo para química'"
      ]
     },
     "execution_count": 6,
     "metadata": {},
     "output_type": "execute_result"
    }
   ],
   "source": [
    "mensaje_3 + \" \" + mensaje_4"
   ]
  },
  {
   "cell_type": "code",
   "execution_count": 8,
   "id": "2b6bd6cb-6635-457f-b426-54aeef308eb4",
   "metadata": {},
   "outputs": [],
   "source": [
    "mensaje_5 = \"Estoy aprendiendo: \""
   ]
  },
  {
   "cell_type": "code",
   "execution_count": 10,
   "id": "25b1ae34-1a8b-4a8a-9d56-19816dec17f3",
   "metadata": {},
   "outputs": [],
   "source": [
    "lenguaje_1 = \"Python\"\n",
    "lenguaje_2 = \"Java\"\n",
    "lenguaje_3 = \"C\"\n",
    "lenguaje_4 = \"Javascript\"\n",
    "lenguaje_5 = \"SQL\""
   ]
  },
  {
   "cell_type": "code",
   "execution_count": 11,
   "id": "5f5b397b-dc8f-452a-b224-1a18b57098ce",
   "metadata": {},
   "outputs": [
    {
     "data": {
      "text/plain": [
       "'Estoy aprendiendo: Python'"
      ]
     },
     "execution_count": 11,
     "metadata": {},
     "output_type": "execute_result"
    }
   ],
   "source": [
    "mensaje_5 + lenguaje_1"
   ]
  },
  {
   "cell_type": "code",
   "execution_count": 12,
   "id": "b515cabf-51c2-4a44-aff3-240ad53da385",
   "metadata": {},
   "outputs": [
    {
     "data": {
      "text/plain": [
       "'Estoy aprendiendo: C'"
      ]
     },
     "execution_count": 12,
     "metadata": {},
     "output_type": "execute_result"
    }
   ],
   "source": [
    "mensaje_5 + lenguaje_3"
   ]
  },
  {
   "cell_type": "code",
   "execution_count": 13,
   "id": "12bd7c74-a093-4be6-b70b-ad7854d50244",
   "metadata": {},
   "outputs": [
    {
     "data": {
      "text/plain": [
       "'Estoy aprendiendo: SQL'"
      ]
     },
     "execution_count": 13,
     "metadata": {},
     "output_type": "execute_result"
    }
   ],
   "source": [
    "mensaje_5 + lenguaje_5"
   ]
  },
  {
   "cell_type": "code",
   "execution_count": 14,
   "id": "9816783b-24a4-4dbf-9e09-c2f6067e7d17",
   "metadata": {},
   "outputs": [
    {
     "data": {
      "text/plain": [
       "'Estoy aprendiendo: Python y Java'"
      ]
     },
     "execution_count": 14,
     "metadata": {},
     "output_type": "execute_result"
    }
   ],
   "source": [
    "mensaje_5 + lenguaje_1 + \" y \" + lenguaje_2"
   ]
  },
  {
   "cell_type": "code",
   "execution_count": 15,
   "id": "2a22ca1d-0210-49be-b2e7-b5cec3bc834d",
   "metadata": {},
   "outputs": [
    {
     "data": {
      "text/plain": [
       "'Estoy aprendiendo: Python, C y SQL'"
      ]
     },
     "execution_count": 15,
     "metadata": {},
     "output_type": "execute_result"
    }
   ],
   "source": [
    "mensaje_5 + lenguaje_1 + \", \" + lenguaje_3 + \" y \" + lenguaje_5"
   ]
  },
  {
   "cell_type": "code",
   "execution_count": 16,
   "id": "6c42c0ea-5bae-4ee1-b9ea-bc2fb597e38e",
   "metadata": {},
   "outputs": [
    {
     "data": {
      "text/plain": [
       "'Estoy aprendiendo a programar'"
      ]
     },
     "execution_count": 16,
     "metadata": {},
     "output_type": "execute_result"
    }
   ],
   "source": [
    "f'Estoy aprendiendo a programar'"
   ]
  },
  {
   "cell_type": "code",
   "execution_count": 17,
   "id": "d9dc6f36-5b9f-4f90-a040-8435c2952cfc",
   "metadata": {},
   "outputs": [
    {
     "data": {
      "text/plain": [
       "'Estoy aprendiendo: Python'"
      ]
     },
     "execution_count": 17,
     "metadata": {},
     "output_type": "execute_result"
    }
   ],
   "source": [
    "# f'' nos ayuda a concatenar strings de forma más prolija, ya que, le podemos agregar variables a la cadena de caracteres\n",
    "\n",
    "f'{mensaje_5}{lenguaje_1}'"
   ]
  },
  {
   "cell_type": "code",
   "execution_count": 19,
   "id": "4dfbd532-36d7-4e7e-81b5-07a095a624c9",
   "metadata": {},
   "outputs": [
    {
     "data": {
      "text/plain": [
       "'Estoy aprendiendo: Python y SQL'"
      ]
     },
     "execution_count": 19,
     "metadata": {},
     "output_type": "execute_result"
    }
   ],
   "source": [
    "f'{mensaje_5}{lenguaje_1} y {lenguaje_5}'"
   ]
  },
  {
   "cell_type": "code",
   "execution_count": 20,
   "id": "8ffcdfae-8cf0-4de3-be68-c581a8477fd2",
   "metadata": {},
   "outputs": [],
   "source": [
    "mensaje_6 = f'{mensaje_5}{lenguaje_1}, {lenguaje_5} y {lenguaje_3}'"
   ]
  },
  {
   "cell_type": "code",
   "execution_count": 21,
   "id": "8da70602-6696-4078-adc6-7c6400d5fad2",
   "metadata": {},
   "outputs": [
    {
     "name": "stdout",
     "output_type": "stream",
     "text": [
      "Estoy aprendiendo: Python, SQL y C\n"
     ]
    }
   ],
   "source": [
    "print(mensaje_6)"
   ]
  },
  {
   "cell_type": "code",
   "execution_count": 22,
   "id": "7a3821d7-aaf7-494b-b1ee-a5ede8713bc9",
   "metadata": {},
   "outputs": [
    {
     "data": {
      "text/plain": [
       "'Estoy aprendiendo: Python, SQL y C'"
      ]
     },
     "execution_count": 22,
     "metadata": {},
     "output_type": "execute_result"
    }
   ],
   "source": [
    "mensaje_6"
   ]
  },
  {
   "cell_type": "code",
   "execution_count": null,
   "id": "d9d20c0f-a0ff-4dea-b2df-1375a9ccc4f3",
   "metadata": {},
   "outputs": [],
   "source": []
  }
 ],
 "metadata": {
  "kernelspec": {
   "display_name": "Python 3 (ipykernel)",
   "language": "python",
   "name": "python3"
  },
  "language_info": {
   "codemirror_mode": {
    "name": "ipython",
    "version": 3
   },
   "file_extension": ".py",
   "mimetype": "text/x-python",
   "name": "python",
   "nbconvert_exporter": "python",
   "pygments_lexer": "ipython3",
   "version": "3.12.7"
  }
 },
 "nbformat": 4,
 "nbformat_minor": 5
}
