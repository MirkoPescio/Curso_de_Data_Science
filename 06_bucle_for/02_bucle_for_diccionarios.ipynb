{
 "cells": [
  {
   "cell_type": "code",
   "execution_count": 1,
   "id": "98485262-4fdc-4fac-b3d5-b5941cd4eb86",
   "metadata": {},
   "outputs": [],
   "source": [
    "# Bucle for para diccionarios:"
   ]
  },
  {
   "cell_type": "code",
   "execution_count": 2,
   "id": "6961e41f-7606-4571-b8e3-3df201ee84ed",
   "metadata": {},
   "outputs": [],
   "source": [
    "mis_datos = {\"nombre\": \"Mirko Pescio\", \"edad\": 25}"
   ]
  },
  {
   "cell_type": "code",
   "execution_count": 3,
   "id": "186d3dfd-a527-41f0-b004-38fba1131015",
   "metadata": {},
   "outputs": [
    {
     "name": "stdout",
     "output_type": "stream",
     "text": [
      "nombre: Mirko Pescio\n",
      "edad: 25\n"
     ]
    }
   ],
   "source": [
    "for clave, valor in mis_datos.items():\n",
    "    print(f\"{clave}: {valor}\")"
   ]
  },
  {
   "cell_type": "code",
   "execution_count": 4,
   "id": "fcbda53d-d7cc-4793-9d85-5b0b4ca2dbfd",
   "metadata": {},
   "outputs": [
    {
     "name": "stdout",
     "output_type": "stream",
     "text": [
      "nombre\n",
      "edad\n"
     ]
    }
   ],
   "source": [
    "for clave in mis_datos.keys():\n",
    "    print(f\"{clave}\")"
   ]
  },
  {
   "cell_type": "code",
   "execution_count": 5,
   "id": "426cca4b-0e72-4584-b628-d7428fb6a018",
   "metadata": {},
   "outputs": [
    {
     "name": "stdout",
     "output_type": "stream",
     "text": [
      "Mirko Pescio\n",
      "25\n"
     ]
    }
   ],
   "source": [
    "for valor in mis_datos.values():\n",
    "    print(f\"{valor}\")"
   ]
  },
  {
   "cell_type": "code",
   "execution_count": null,
   "id": "b12da894-06ba-4b33-a7fa-2b44046c61f1",
   "metadata": {},
   "outputs": [],
   "source": []
  }
 ],
 "metadata": {
  "kernelspec": {
   "display_name": "Python 3 (ipykernel)",
   "language": "python",
   "name": "python3"
  },
  "language_info": {
   "codemirror_mode": {
    "name": "ipython",
    "version": 3
   },
   "file_extension": ".py",
   "mimetype": "text/x-python",
   "name": "python",
   "nbconvert_exporter": "python",
   "pygments_lexer": "ipython3",
   "version": "3.12.7"
  }
 },
 "nbformat": 4,
 "nbformat_minor": 5
}
