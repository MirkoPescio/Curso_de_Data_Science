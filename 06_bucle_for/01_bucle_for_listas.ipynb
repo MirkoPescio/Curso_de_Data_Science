{
 "cells": [
  {
   "cell_type": "code",
   "execution_count": 1,
   "id": "4316c1c9-ed33-4eb8-9d3e-8e893937bfc8",
   "metadata": {},
   "outputs": [
    {
     "data": {
      "text/plain": [
       "'\\nfor <variable> in <lista>:\\n    <codigo>\\n'"
      ]
     },
     "execution_count": 1,
     "metadata": {},
     "output_type": "execute_result"
    }
   ],
   "source": [
    "# Bucle for: ejemplo para iterar listas\n",
    "\"\"\"\n",
    "for <variable> in <lista>:\n",
    "    <codigo>\n",
    "\"\"\""
   ]
  },
  {
   "cell_type": "code",
   "execution_count": 2,
   "id": "6afa1787-b953-4cbe-b347-481a6c657d15",
   "metadata": {},
   "outputs": [],
   "source": [
    "paises = [\"Argentina\", \"Brasil\", \"USA\", \"Canada\", \"España\"]"
   ]
  },
  {
   "cell_type": "code",
   "execution_count": 3,
   "id": "334dcdfa-05c5-4efe-b266-7fbb5064205f",
   "metadata": {},
   "outputs": [
    {
     "name": "stdout",
     "output_type": "stream",
     "text": [
      "Argentina\n",
      "Brasil\n",
      "USA\n",
      "Canada\n",
      "España\n"
     ]
    }
   ],
   "source": [
    "for pais in paises:\n",
    "    print(pais)"
   ]
  },
  {
   "cell_type": "code",
   "execution_count": 4,
   "id": "d93c59bf-9488-47ab-8bf6-c666d86eb2f3",
   "metadata": {},
   "outputs": [
    {
     "name": "stdout",
     "output_type": "stream",
     "text": [
      "Canada\n"
     ]
    }
   ],
   "source": [
    "for pais in paises:\n",
    "    if (pais == \"Canada\"):\n",
    "        print(pais)"
   ]
  },
  {
   "cell_type": "code",
   "execution_count": 5,
   "id": "fa2b8a21-1c20-47c3-aaeb-3b7a5530b7de",
   "metadata": {},
   "outputs": [],
   "source": [
    "# La función que vamos a usar enumerate() lo que va a hacer es enumerar cada uno de los elementos de una lista"
   ]
  },
  {
   "cell_type": "code",
   "execution_count": 6,
   "id": "f4a8c73d-4ecf-4aee-b5a1-a92cdb19ad44",
   "metadata": {},
   "outputs": [
    {
     "name": "stdout",
     "output_type": "stream",
     "text": [
      "0\n",
      "Argentina\n",
      "1\n",
      "Brasil\n",
      "2\n",
      "USA\n",
      "3\n",
      "Canada\n",
      "4\n",
      "España\n"
     ]
    }
   ],
   "source": [
    "for numero, pais in enumerate(paises):\n",
    "    print(numero)\n",
    "    print(pais)"
   ]
  },
  {
   "cell_type": "code",
   "execution_count": 8,
   "id": "6696f34b-33f2-4fcc-8907-d7c2dac94067",
   "metadata": {},
   "outputs": [
    {
     "name": "stdout",
     "output_type": "stream",
     "text": [
      "El pais Argentina se encuentra en la lista en el index 0\n"
     ]
    }
   ],
   "source": [
    "for numero, pais in enumerate(paises):\n",
    "    if (pais == \"Argentina\"):\n",
    "        print(f\"El pais {pais} se encuentra en la lista en el index {numero}\")"
   ]
  },
  {
   "cell_type": "code",
   "execution_count": 9,
   "id": "065343f4-3980-4e9d-af4c-a662e0942e1d",
   "metadata": {},
   "outputs": [
    {
     "name": "stdout",
     "output_type": "stream",
     "text": [
      "El pais España se encuentra en la lista en el la pos 5\n"
     ]
    }
   ],
   "source": [
    "for numero, pais in enumerate(paises):\n",
    "    if (pais == \"España\"):\n",
    "        print(f\"El pais {pais} se encuentra en la lista en el la pos {numero+1}\")"
   ]
  },
  {
   "cell_type": "code",
   "execution_count": 11,
   "id": "3a0ef458-e6fd-4bd2-a7d4-b63cfd32cd33",
   "metadata": {},
   "outputs": [
    {
     "data": {
      "text/plain": [
       "'\\nPor lo tanto la estructura del ciclo para una lista con la funcion enumerate() es la siguiente:\\n\\nfor <index>, <valor> in enumerate(<lista>):\\n    <codigo>\\n'"
      ]
     },
     "execution_count": 11,
     "metadata": {},
     "output_type": "execute_result"
    }
   ],
   "source": [
    "\"\"\"\n",
    "Por lo tanto la estructura del ciclo para una lista con la funcion enumerate() es la siguiente:\n",
    "\n",
    "for <index>, <valor> in enumerate(<lista>):\n",
    "    <codigo>\n",
    "\"\"\""
   ]
  },
  {
   "cell_type": "code",
   "execution_count": null,
   "id": "21bcd32d-920a-46ae-99f6-3bc465e62b1e",
   "metadata": {},
   "outputs": [],
   "source": []
  }
 ],
 "metadata": {
  "kernelspec": {
   "display_name": "Python 3 (ipykernel)",
   "language": "python",
   "name": "python3"
  },
  "language_info": {
   "codemirror_mode": {
    "name": "ipython",
    "version": 3
   },
   "file_extension": ".py",
   "mimetype": "text/x-python",
   "name": "python",
   "nbconvert_exporter": "python",
   "pygments_lexer": "ipython3",
   "version": "3.12.7"
  }
 },
 "nbformat": 4,
 "nbformat_minor": 5
}
