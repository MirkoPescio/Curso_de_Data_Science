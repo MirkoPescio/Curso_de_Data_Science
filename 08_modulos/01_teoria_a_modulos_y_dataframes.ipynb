{
 "cells": [
  {
   "cell_type": "code",
   "execution_count": 1,
   "id": "be546414-4445-4533-8ec4-e579b8c6a210",
   "metadata": {},
   "outputs": [],
   "source": [
    "# Inicio a la librería Pandas"
   ]
  },
  {
   "cell_type": "code",
   "execution_count": 3,
   "id": "f0f7bfe7-2783-40fa-8fc7-8ac37e93d47b",
   "metadata": {},
   "outputs": [],
   "source": [
    "# Es una de las mejores herramientas para hacer análisis de datos en Python.\n",
    "# Nos permite hacer limpieza a los datos, transformaciones y visualizaciones de los mismos\n",
    "# Podemos verlo como una forma optimizada de Excel"
   ]
  },
  {
   "cell_type": "code",
   "execution_count": 4,
   "id": "f5ebf120-975a-4b8c-8a8d-1dbdb624397c",
   "metadata": {},
   "outputs": [],
   "source": [
    "# Ventajas que tiene Pandas sobre Excel:\n",
    "\n",
    "### Tamaño\n",
    "### Transformación de data compleja\n",
    "### Automatización\n",
    "### Compatibilidad en diferentes plataformas"
   ]
  },
  {
   "cell_type": "code",
   "execution_count": 6,
   "id": "b50df215-f9f4-47f6-8a75-3b38e8c8f059",
   "metadata": {},
   "outputs": [],
   "source": [
    "# Terminología\n",
    "\n",
    "##  Excel ========> Pandas\n",
    "\n",
    "### Worksheet ====> Dataframe\n",
    "### Column    ====> Series / Column\n",
    "### Row heading ==> Index\n",
    "### Row       ====> Row\n",
    "### Empty Cell ===> NaN"
   ]
  },
  {
   "cell_type": "code",
   "execution_count": null,
   "id": "45b02256-2b28-4797-8708-2d9e58002192",
   "metadata": {},
   "outputs": [],
   "source": []
  },
  {
   "cell_type": "code",
   "execution_count": 8,
   "id": "2dc0e8d3-ed77-4ea4-823d-8810895f14ab",
   "metadata": {},
   "outputs": [],
   "source": [
    "# Como crear un dataframe: Lista\n",
    "\n",
    "# Como crear un array con Numpy:\n",
    "# np.array([1, 4], [2, 5], [3, 6])"
   ]
  },
  {
   "cell_type": "code",
   "execution_count": 9,
   "id": "13545332-860d-4117-a688-7a4db52d1004",
   "metadata": {},
   "outputs": [],
   "source": [
    "# Como crear un dataframe: Diccionario\n",
    "\n",
    "# my_dict = {\"key1\": value1, \"key2\": value2}\n",
    "\n",
    "# Donde key es el nombre de la columna y value es la data (que en este caso es de una dimension)"
   ]
  },
  {
   "cell_type": "code",
   "execution_count": null,
   "id": "a8fafc08-04f2-48d4-b467-9bd462394526",
   "metadata": {},
   "outputs": [],
   "source": []
  }
 ],
 "metadata": {
  "kernelspec": {
   "display_name": "Python 3 (ipykernel)",
   "language": "python",
   "name": "python3"
  },
  "language_info": {
   "codemirror_mode": {
    "name": "ipython",
    "version": 3
   },
   "file_extension": ".py",
   "mimetype": "text/x-python",
   "name": "python",
   "nbconvert_exporter": "python",
   "pygments_lexer": "ipython3",
   "version": "3.12.7"
  }
 },
 "nbformat": 4,
 "nbformat_minor": 5
}
