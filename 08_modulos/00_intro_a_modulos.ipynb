{
 "cells": [
  {
   "cell_type": "code",
   "execution_count": 2,
   "id": "73e5aba5-8626-4f52-bc58-43d1d6fd269e",
   "metadata": {},
   "outputs": [],
   "source": [
    "# Módulos:"
   ]
  },
  {
   "cell_type": "code",
   "execution_count": 3,
   "id": "b752dc4f-9fe4-4256-8fd3-ef1d3df289fd",
   "metadata": {},
   "outputs": [],
   "source": [
    "# Módulo os\n",
    "import os"
   ]
  },
  {
   "cell_type": "code",
   "execution_count": 14,
   "id": "ce1cc522-7d84-4253-9ff1-1bbbb9f96164",
   "metadata": {},
   "outputs": [
    {
     "data": {
      "text/plain": [
       "'C:\\\\Users\\\\Mirko'"
      ]
     },
     "execution_count": 14,
     "metadata": {},
     "output_type": "execute_result"
    }
   ],
   "source": [
    "# Para saber donde está nuestro archivo actual de Jupyter Notebook\n",
    "# O sea, la ruta\n",
    "os.getcwd()"
   ]
  },
  {
   "cell_type": "code",
   "execution_count": 15,
   "id": "bb77c146-d640-4dfe-bb5d-57649a0af81b",
   "metadata": {},
   "outputs": [
    {
     "data": {
      "text/plain": [
       "['.anaconda',\n",
       " '.bash_history',\n",
       " '.conda',\n",
       " '.condarc',\n",
       " '.continuum',\n",
       " '.gitconfig',\n",
       " '.ipynb_checkpoints',\n",
       " '.ipython',\n",
       " '.jupyter',\n",
       " '.matplotlib',\n",
       " '.ms-ad',\n",
       " '.node_repl_history',\n",
       " '.spyder-py3',\n",
       " '.vscode',\n",
       " '3D Objects',\n",
       " 'AppData',\n",
       " 'Configuración local',\n",
       " 'Contacts',\n",
       " 'Cookies',\n",
       " 'Datos de programa',\n",
       " 'Desktop',\n",
       " 'Documents',\n",
       " 'Downloads',\n",
       " 'Entorno de red',\n",
       " 'Favorites',\n",
       " 'Impresoras',\n",
       " 'Intel',\n",
       " 'IntelGraphicsProfiles',\n",
       " 'Links',\n",
       " 'Menú Inicio',\n",
       " 'Mis documentos',\n",
       " 'Music',\n",
       " 'NTUSER.DAT',\n",
       " 'ntuser.dat.LOG1',\n",
       " 'ntuser.dat.LOG2',\n",
       " 'NTUSER.DAT{2ad838bc-efea-11ee-a54d-000d3a94eaa1}.TM.blf',\n",
       " 'NTUSER.DAT{2ad838bc-efea-11ee-a54d-000d3a94eaa1}.TMContainer00000000000000000001.regtrans-ms',\n",
       " 'NTUSER.DAT{2ad838bc-efea-11ee-a54d-000d3a94eaa1}.TMContainer00000000000000000002.regtrans-ms',\n",
       " 'ntuser.ini',\n",
       " 'OneDrive',\n",
       " 'Pictures',\n",
       " 'Plantillas',\n",
       " 'pseint',\n",
       " 'Reciente',\n",
       " 'Saved Games',\n",
       " 'Searches',\n",
       " 'SendTo',\n",
       " 'untitled.py',\n",
       " 'Untitled15.ipynb',\n",
       " 'Videos']"
      ]
     },
     "execution_count": 15,
     "metadata": {},
     "output_type": "execute_result"
    }
   ],
   "source": [
    "# Para ver la lista de archivos que hay en nuestra ruta actual:\n",
    "os.listdir()"
   ]
  },
  {
   "cell_type": "code",
   "execution_count": 16,
   "id": "3a6742b2-48b6-44cd-94f1-4ad3898dfae0",
   "metadata": {},
   "outputs": [],
   "source": [
    "# Para crear una nueva carpeta en nuestra ruta actual\n",
    "os.makedirs(\"Nueva_carpeta_Modulo\")"
   ]
  },
  {
   "cell_type": "code",
   "execution_count": 17,
   "id": "82be3800-9dcf-4303-99f2-b58114e37245",
   "metadata": {},
   "outputs": [
    {
     "data": {
      "text/plain": [
       "['.anaconda',\n",
       " '.bash_history',\n",
       " '.conda',\n",
       " '.condarc',\n",
       " '.continuum',\n",
       " '.gitconfig',\n",
       " '.ipynb_checkpoints',\n",
       " '.ipython',\n",
       " '.jupyter',\n",
       " '.matplotlib',\n",
       " '.ms-ad',\n",
       " '.node_repl_history',\n",
       " '.spyder-py3',\n",
       " '.vscode',\n",
       " '3D Objects',\n",
       " 'AppData',\n",
       " 'Configuración local',\n",
       " 'Contacts',\n",
       " 'Cookies',\n",
       " 'Datos de programa',\n",
       " 'Desktop',\n",
       " 'Documents',\n",
       " 'Downloads',\n",
       " 'Entorno de red',\n",
       " 'Favorites',\n",
       " 'Impresoras',\n",
       " 'Intel',\n",
       " 'IntelGraphicsProfiles',\n",
       " 'Links',\n",
       " 'Menú Inicio',\n",
       " 'Mis documentos',\n",
       " 'Music',\n",
       " 'NTUSER.DAT',\n",
       " 'ntuser.dat.LOG1',\n",
       " 'ntuser.dat.LOG2',\n",
       " 'NTUSER.DAT{2ad838bc-efea-11ee-a54d-000d3a94eaa1}.TM.blf',\n",
       " 'NTUSER.DAT{2ad838bc-efea-11ee-a54d-000d3a94eaa1}.TMContainer00000000000000000001.regtrans-ms',\n",
       " 'NTUSER.DAT{2ad838bc-efea-11ee-a54d-000d3a94eaa1}.TMContainer00000000000000000002.regtrans-ms',\n",
       " 'ntuser.ini',\n",
       " 'Nueva_carpeta_Modulo',\n",
       " 'OneDrive',\n",
       " 'Pictures',\n",
       " 'Plantillas',\n",
       " 'pseint',\n",
       " 'Reciente',\n",
       " 'Saved Games',\n",
       " 'Searches',\n",
       " 'SendTo',\n",
       " 'untitled.py',\n",
       " 'Untitled15.ipynb',\n",
       " 'Videos']"
      ]
     },
     "execution_count": 17,
     "metadata": {},
     "output_type": "execute_result"
    }
   ],
   "source": [
    "# Verificamos que se haya creado la nueva carpeta:\n",
    "os.listdir()"
   ]
  },
  {
   "cell_type": "code",
   "execution_count": null,
   "id": "6288200e-cb82-4329-8e39-68ea60854366",
   "metadata": {},
   "outputs": [],
   "source": []
  }
 ],
 "metadata": {
  "kernelspec": {
   "display_name": "Python 3 (ipykernel)",
   "language": "python",
   "name": "python3"
  },
  "language_info": {
   "codemirror_mode": {
    "name": "ipython",
    "version": 3
   },
   "file_extension": ".py",
   "mimetype": "text/x-python",
   "name": "python",
   "nbconvert_exporter": "python",
   "pygments_lexer": "ipython3",
   "version": "3.12.7"
  }
 },
 "nbformat": 4,
 "nbformat_minor": 5
}
