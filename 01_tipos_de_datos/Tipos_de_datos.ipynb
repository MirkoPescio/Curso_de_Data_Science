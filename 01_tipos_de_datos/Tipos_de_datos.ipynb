{
 "cells": [
  {
   "cell_type": "code",
   "execution_count": 1,
   "id": "81631c5e-40e6-4911-94be-d353c6bde940",
   "metadata": {},
   "outputs": [
    {
     "data": {
      "text/plain": [
       "int"
      ]
     },
     "execution_count": 1,
     "metadata": {},
     "output_type": "execute_result"
    }
   ],
   "source": [
    "type(1)"
   ]
  },
  {
   "cell_type": "code",
   "execution_count": 2,
   "id": "f2fa9e1f-a089-4ef2-a0e6-bca7f6b6a79d",
   "metadata": {},
   "outputs": [
    {
     "data": {
      "text/plain": [
       "float"
      ]
     },
     "execution_count": 2,
     "metadata": {},
     "output_type": "execute_result"
    }
   ],
   "source": [
    "type(2.5)"
   ]
  },
  {
   "cell_type": "code",
   "execution_count": 4,
   "id": "2842fed0-bc6e-420d-a8a8-544cb20994a2",
   "metadata": {},
   "outputs": [
    {
     "data": {
      "text/plain": [
       "str"
      ]
     },
     "execution_count": 4,
     "metadata": {},
     "output_type": "execute_result"
    }
   ],
   "source": [
    "type(\"Mensaje genérico\")"
   ]
  },
  {
   "cell_type": "code",
   "execution_count": 5,
   "id": "75e6c041-bf49-4a20-aec1-dd2cc5e0394a",
   "metadata": {},
   "outputs": [
    {
     "data": {
      "text/plain": [
       "3"
      ]
     },
     "execution_count": 5,
     "metadata": {},
     "output_type": "execute_result"
    }
   ],
   "source": [
    "9-6"
   ]
  },
  {
   "cell_type": "code",
   "execution_count": 6,
   "id": "fcb5e3e7-8051-43d9-80a7-87464f574fc6",
   "metadata": {},
   "outputs": [
    {
     "data": {
      "text/plain": [
       "bool"
      ]
     },
     "execution_count": 6,
     "metadata": {},
     "output_type": "execute_result"
    }
   ],
   "source": [
    "type(True)"
   ]
  },
  {
   "cell_type": "code",
   "execution_count": 7,
   "id": "f13d73d4-b6d9-4229-923d-5086027c373c",
   "metadata": {},
   "outputs": [
    {
     "data": {
      "text/plain": [
       "bool"
      ]
     },
     "execution_count": 7,
     "metadata": {},
     "output_type": "execute_result"
    }
   ],
   "source": [
    "type(False)"
   ]
  },
  {
   "cell_type": "code",
   "execution_count": 8,
   "id": "00eaa3cf-191f-4a80-bdf6-82118764fef4",
   "metadata": {},
   "outputs": [
    {
     "data": {
      "text/plain": [
       "2.0"
      ]
     },
     "execution_count": 8,
     "metadata": {},
     "output_type": "execute_result"
    }
   ],
   "source": [
    "8/4"
   ]
  },
  {
   "cell_type": "code",
   "execution_count": 9,
   "id": "02a9072c-cc98-4145-be16-038248a81d5b",
   "metadata": {},
   "outputs": [
    {
     "data": {
      "text/plain": [
       "2.5"
      ]
     },
     "execution_count": 9,
     "metadata": {},
     "output_type": "execute_result"
    }
   ],
   "source": [
    "10/4"
   ]
  },
  {
   "cell_type": "code",
   "execution_count": 10,
   "id": "92c9ab44-a332-4e9e-8695-b092a2e3fbe4",
   "metadata": {},
   "outputs": [
    {
     "data": {
      "text/plain": [
       "'Nuevo mensaje'"
      ]
     },
     "execution_count": 10,
     "metadata": {},
     "output_type": "execute_result"
    }
   ],
   "source": [
    "\"Nuevo mensaje\""
   ]
  },
  {
   "cell_type": "code",
   "execution_count": 11,
   "id": "3cac5097-73d0-43de-9393-72035d0331cd",
   "metadata": {},
   "outputs": [
    {
     "data": {
      "text/plain": [
       "str"
      ]
     },
     "execution_count": 11,
     "metadata": {},
     "output_type": "execute_result"
    }
   ],
   "source": [
    "type(\"Nuevo mensaje\")"
   ]
  },
  {
   "cell_type": "code",
   "execution_count": 12,
   "id": "7619dce4-6aef-4a69-92a3-4db6d21d0686",
   "metadata": {},
   "outputs": [
    {
     "data": {
      "text/plain": [
       "'NUEVO MENSAJE'"
      ]
     },
     "execution_count": 12,
     "metadata": {},
     "output_type": "execute_result"
    }
   ],
   "source": [
    "\"Nuevo mensaje\".upper()"
   ]
  },
  {
   "cell_type": "code",
   "execution_count": 13,
   "id": "dcc8d8c8-4365-4208-a884-877a028ea650",
   "metadata": {},
   "outputs": [
    {
     "data": {
      "text/plain": [
       "'nuevo mensaje'"
      ]
     },
     "execution_count": 13,
     "metadata": {},
     "output_type": "execute_result"
    }
   ],
   "source": [
    "\"Nuevo mensaje\".lower()"
   ]
  },
  {
   "cell_type": "code",
   "execution_count": 14,
   "id": "6f298ad8-189c-47c9-a8f2-674ca5a125fb",
   "metadata": {},
   "outputs": [
    {
     "data": {
      "text/plain": [
       "'Nuevo Mensaje'"
      ]
     },
     "execution_count": 14,
     "metadata": {},
     "output_type": "execute_result"
    }
   ],
   "source": [
    "# .title() pone en mayúsculas cada primer letra de cada palabra\n",
    "\"nuevo mensaje\".title()"
   ]
  },
  {
   "cell_type": "code",
   "execution_count": 16,
   "id": "1f9825f1-032c-4a04-9c61-c671c17b5b97",
   "metadata": {},
   "outputs": [
    {
     "name": "stdout",
     "output_type": "stream",
     "text": [
      "NUEVO MENSAJE\n",
      "nuevo mensaje\n",
      "Nuevo Mensaje\n"
     ]
    }
   ],
   "source": [
    "# Mostramos las 3 salidas juntas (o sea en una sola ejecución)\n",
    "print(\"Nuevo mensaje\".upper())\n",
    "print(\"Nuevo mensaje\".lower())\n",
    "print(\"nuevo mensaje\".title())"
   ]
  },
  {
   "cell_type": "code",
   "execution_count": 17,
   "id": "b594f2ad-0124-42eb-8711-af66f008723b",
   "metadata": {},
   "outputs": [
    {
     "data": {
      "text/plain": [
       "2"
      ]
     },
     "execution_count": 17,
     "metadata": {},
     "output_type": "execute_result"
    }
   ],
   "source": [
    "# el método .count() muestra la cantidad de apariciones de una letra en un string\n",
    "\"Hola Mundo!!\".count('o')"
   ]
  },
  {
   "cell_type": "code",
   "execution_count": 18,
   "id": "45c5a1bc-7bfc-4a77-8571-3c5817fb1350",
   "metadata": {},
   "outputs": [
    {
     "data": {
      "text/plain": [
       "'Hula Mundu'"
      ]
     },
     "execution_count": 18,
     "metadata": {},
     "output_type": "execute_result"
    }
   ],
   "source": [
    "# el método replace() reemplaza una letra por otra\n",
    "\"Hola Mundo\".replace('o', 'u')"
   ]
  },
  {
   "cell_type": "code",
   "execution_count": null,
   "id": "2a26a024-ca6e-4b81-bd39-843c3331f76d",
   "metadata": {},
   "outputs": [],
   "source": []
  }
 ],
 "metadata": {
  "kernelspec": {
   "display_name": "Python 3 (ipykernel)",
   "language": "python",
   "name": "python3"
  },
  "language_info": {
   "codemirror_mode": {
    "name": "ipython",
    "version": 3
   },
   "file_extension": ".py",
   "mimetype": "text/x-python",
   "name": "python",
   "nbconvert_exporter": "python",
   "pygments_lexer": "ipython3",
   "version": "3.12.7"
  }
 },
 "nbformat": 4,
 "nbformat_minor": 5
}
