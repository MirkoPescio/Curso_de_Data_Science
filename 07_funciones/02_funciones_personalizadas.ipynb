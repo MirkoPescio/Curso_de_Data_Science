{
 "cells": [
  {
   "cell_type": "code",
   "execution_count": 1,
   "id": "1e5471dd-3852-458a-af27-327ec6c70861",
   "metadata": {},
   "outputs": [],
   "source": [
    "# Funciones personalizadas\n",
    "# O sea, funciones creadas por el usuario"
   ]
  },
  {
   "cell_type": "code",
   "execution_count": 2,
   "id": "da856dbd-bf78-4eb0-a35b-eb77d8c6b406",
   "metadata": {},
   "outputs": [
    {
     "name": "stdout",
     "output_type": "stream",
     "text": [
      "El resultado de la suma es =  12\n"
     ]
    }
   ],
   "source": [
    "def sumar(num1, num2):\n",
    "    return num1 + num2\n",
    "\n",
    "def resultadoSuma(resultado):\n",
    "    print(\"El resultado de la suma es = \", str(resultado))\n",
    "\n",
    "def main():\n",
    "    num1 = 5\n",
    "    num2 = 7\n",
    "    resultado = sumar(num1, num2)\n",
    "    resultadoSuma(resultado)\n",
    "main()"
   ]
  },
  {
   "cell_type": "code",
   "execution_count": null,
   "id": "6ec198bb-4f56-4961-bf0f-4a2eababea86",
   "metadata": {},
   "outputs": [],
   "source": []
  },
  {
   "cell_type": "code",
   "execution_count": 3,
   "id": "5878911c-f808-41ad-832f-d89e9449cdf0",
   "metadata": {},
   "outputs": [],
   "source": [
    "def restar_numeros(a, b):\n",
    "    resta = a - b\n",
    "    return resta"
   ]
  },
  {
   "cell_type": "code",
   "execution_count": 4,
   "id": "ef3f170b-2632-41db-a938-b88ba1c5c843",
   "metadata": {},
   "outputs": [
    {
     "data": {
      "text/plain": [
       "5"
      ]
     },
     "execution_count": 4,
     "metadata": {},
     "output_type": "execute_result"
    }
   ],
   "source": [
    "restar_numeros(10, 5)"
   ]
  },
  {
   "cell_type": "code",
   "execution_count": null,
   "id": "c1864caa-a614-4446-854c-defcd4091f7a",
   "metadata": {},
   "outputs": [],
   "source": []
  }
 ],
 "metadata": {
  "kernelspec": {
   "display_name": "Python 3 (ipykernel)",
   "language": "python",
   "name": "python3"
  },
  "language_info": {
   "codemirror_mode": {
    "name": "ipython",
    "version": 3
   },
   "file_extension": ".py",
   "mimetype": "text/x-python",
   "name": "python",
   "nbconvert_exporter": "python",
   "pygments_lexer": "ipython3",
   "version": "3.12.7"
  }
 },
 "nbformat": 4,
 "nbformat_minor": 5
}
