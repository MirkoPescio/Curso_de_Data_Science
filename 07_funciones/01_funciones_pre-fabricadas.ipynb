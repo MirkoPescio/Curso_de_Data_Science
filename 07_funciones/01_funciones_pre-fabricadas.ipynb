{
 "cells": [
  {
   "cell_type": "code",
   "execution_count": 1,
   "id": "9f72058f-bc3f-4813-8930-2783cad69a8e",
   "metadata": {},
   "outputs": [],
   "source": [
    "# Funciones pre-fabricadas"
   ]
  },
  {
   "cell_type": "code",
   "execution_count": 2,
   "id": "51bf3902-689b-4a07-8cc5-e70daee76642",
   "metadata": {},
   "outputs": [],
   "source": [
    "paises = [\"Argentina\", \"Brasil\", \"Canada\", \"España\"]"
   ]
  },
  {
   "cell_type": "code",
   "execution_count": 4,
   "id": "e0f8043d-c913-4538-bbac-a6b6a67f57d1",
   "metadata": {},
   "outputs": [
    {
     "data": {
      "text/plain": [
       "4"
      ]
     },
     "execution_count": 4,
     "metadata": {},
     "output_type": "execute_result"
    }
   ],
   "source": [
    "# La función len() nos permite saber el tamaño de una lista\n",
    "\n",
    "len(paises)"
   ]
  },
  {
   "cell_type": "code",
   "execution_count": 5,
   "id": "3da1e571-4dda-4ec5-823b-32bfcc29c7eb",
   "metadata": {},
   "outputs": [],
   "source": [
    "numeros = [3.5, 8, -2, -14, 0, 502, 99.99]"
   ]
  },
  {
   "cell_type": "code",
   "execution_count": 6,
   "id": "6424e505-f7cb-478b-9057-3b1180a2d7be",
   "metadata": {},
   "outputs": [
    {
     "data": {
      "text/plain": [
       "502"
      ]
     },
     "execution_count": 6,
     "metadata": {},
     "output_type": "execute_result"
    }
   ],
   "source": [
    "max(numeros)"
   ]
  },
  {
   "cell_type": "code",
   "execution_count": 7,
   "id": "8970a40a-2237-4426-b327-19cf4ab86ea7",
   "metadata": {},
   "outputs": [
    {
     "data": {
      "text/plain": [
       "-14"
      ]
     },
     "execution_count": 7,
     "metadata": {},
     "output_type": "execute_result"
    }
   ],
   "source": [
    "min(numeros)"
   ]
  },
  {
   "cell_type": "code",
   "execution_count": 8,
   "id": "3214a6db-6a9c-4147-9129-1142239c9e26",
   "metadata": {},
   "outputs": [],
   "source": [
    "# La función type() nos devuelve el tipo de dato al cual nosotros pasamos por parámetro"
   ]
  },
  {
   "cell_type": "code",
   "execution_count": 9,
   "id": "b170019c-5ba5-4ca4-bd23-98cb74e8fc5b",
   "metadata": {},
   "outputs": [
    {
     "data": {
      "text/plain": [
       "str"
      ]
     },
     "execution_count": 9,
     "metadata": {},
     "output_type": "execute_result"
    }
   ],
   "source": [
    "type(\"Lorem Ipsum\")"
   ]
  },
  {
   "cell_type": "code",
   "execution_count": 10,
   "id": "924743fe-8be2-4f42-a879-619010433bf0",
   "metadata": {},
   "outputs": [
    {
     "data": {
      "text/plain": [
       "int"
      ]
     },
     "execution_count": 10,
     "metadata": {},
     "output_type": "execute_result"
    }
   ],
   "source": [
    "type(29)"
   ]
  },
  {
   "cell_type": "code",
   "execution_count": 11,
   "id": "cf50e42d-2b8b-4420-9443-3aa5cc32e82f",
   "metadata": {},
   "outputs": [
    {
     "data": {
      "text/plain": [
       "float"
      ]
     },
     "execution_count": 11,
     "metadata": {},
     "output_type": "execute_result"
    }
   ],
   "source": [
    "type(3.1416)"
   ]
  },
  {
   "cell_type": "code",
   "execution_count": 12,
   "id": "c9f48856-cd83-4b21-92fc-811cfb11b01a",
   "metadata": {},
   "outputs": [
    {
     "data": {
      "text/plain": [
       "list"
      ]
     },
     "execution_count": 12,
     "metadata": {},
     "output_type": "execute_result"
    }
   ],
   "source": [
    "type(paises)"
   ]
  },
  {
   "cell_type": "code",
   "execution_count": 13,
   "id": "ff80272a-ce1b-464b-afbb-7edbe69059cc",
   "metadata": {},
   "outputs": [
    {
     "data": {
      "text/plain": [
       "list"
      ]
     },
     "execution_count": 13,
     "metadata": {},
     "output_type": "execute_result"
    }
   ],
   "source": [
    "type(numeros)"
   ]
  },
  {
   "cell_type": "code",
   "execution_count": 14,
   "id": "9616ffff-2dea-4c5b-8889-15a1167a2ebb",
   "metadata": {},
   "outputs": [],
   "source": [
    "mis_datos = {\"nombre\": \"Mirko Pescio\", \"edad\": 25}"
   ]
  },
  {
   "cell_type": "code",
   "execution_count": 15,
   "id": "11d63b65-3233-4171-8924-d6138afc6f08",
   "metadata": {},
   "outputs": [
    {
     "data": {
      "text/plain": [
       "dict"
      ]
     },
     "execution_count": 15,
     "metadata": {},
     "output_type": "execute_result"
    }
   ],
   "source": [
    "type(mis_datos)"
   ]
  },
  {
   "cell_type": "code",
   "execution_count": 16,
   "id": "2b2383a2-8de6-4689-adc1-206bbd326fae",
   "metadata": {},
   "outputs": [],
   "source": [
    "# round() redondea un número decimal\n",
    "# Se le puede pasar, de forma opcional, un segundo parámetro en el cual podemos especificar la cantidad de decimales\n",
    "# con la que queremos que se redondeé el número original"
   ]
  },
  {
   "cell_type": "code",
   "execution_count": 17,
   "id": "57005be1-e4a4-4236-b03f-abd5bbdf16da",
   "metadata": {},
   "outputs": [
    {
     "data": {
      "text/plain": [
       "5"
      ]
     },
     "execution_count": 17,
     "metadata": {},
     "output_type": "execute_result"
    }
   ],
   "source": [
    "round(5.3)"
   ]
  },
  {
   "cell_type": "code",
   "execution_count": 18,
   "id": "9ff069eb-8095-42b7-ba1d-c7402b4e2de9",
   "metadata": {},
   "outputs": [
    {
     "data": {
      "text/plain": [
       "10"
      ]
     },
     "execution_count": 18,
     "metadata": {},
     "output_type": "execute_result"
    }
   ],
   "source": [
    "round(9.99999)"
   ]
  },
  {
   "cell_type": "code",
   "execution_count": 19,
   "id": "5e95201f-7d84-4026-8178-30fa38a0a473",
   "metadata": {},
   "outputs": [
    {
     "data": {
      "text/plain": [
       "6"
      ]
     },
     "execution_count": 19,
     "metadata": {},
     "output_type": "execute_result"
    }
   ],
   "source": [
    "round(6.5)"
   ]
  },
  {
   "cell_type": "code",
   "execution_count": 20,
   "id": "0faba42a-17b7-49e0-8e7e-324ded68108c",
   "metadata": {},
   "outputs": [
    {
     "data": {
      "text/plain": [
       "7"
      ]
     },
     "execution_count": 20,
     "metadata": {},
     "output_type": "execute_result"
    }
   ],
   "source": [
    "round(6.6)"
   ]
  },
  {
   "cell_type": "code",
   "execution_count": 21,
   "id": "eb017dc0-679b-43a7-891c-c5686330e196",
   "metadata": {},
   "outputs": [
    {
     "data": {
      "text/plain": [
       "7"
      ]
     },
     "execution_count": 21,
     "metadata": {},
     "output_type": "execute_result"
    }
   ],
   "source": [
    "round(6.51)"
   ]
  },
  {
   "cell_type": "code",
   "execution_count": 22,
   "id": "80019994-1816-45f2-b26c-ce3ffa38ce3e",
   "metadata": {},
   "outputs": [
    {
     "data": {
      "text/plain": [
       "5.1"
      ]
     },
     "execution_count": 22,
     "metadata": {},
     "output_type": "execute_result"
    }
   ],
   "source": [
    "round(5.1, 2)"
   ]
  },
  {
   "cell_type": "code",
   "execution_count": 23,
   "id": "fe2e1cc6-fa99-4348-b547-1e3aa5cee0a5",
   "metadata": {},
   "outputs": [
    {
     "data": {
      "text/plain": [
       "10.5"
      ]
     },
     "execution_count": 23,
     "metadata": {},
     "output_type": "execute_result"
    }
   ],
   "source": [
    "round(10.50, 2)"
   ]
  },
  {
   "cell_type": "code",
   "execution_count": 24,
   "id": "50874e4b-120c-41f5-9e47-5368a428cd60",
   "metadata": {},
   "outputs": [
    {
     "data": {
      "text/plain": [
       "11.57"
      ]
     },
     "execution_count": 24,
     "metadata": {},
     "output_type": "execute_result"
    }
   ],
   "source": [
    "round(11.567, 2)"
   ]
  },
  {
   "cell_type": "code",
   "execution_count": 25,
   "id": "ae9c4353-0a38-4777-b89c-0064fef15340",
   "metadata": {},
   "outputs": [
    {
     "data": {
      "text/plain": [
       "12.0"
      ]
     },
     "execution_count": 25,
     "metadata": {},
     "output_type": "execute_result"
    }
   ],
   "source": [
    "round(11.9999999, 3)"
   ]
  },
  {
   "cell_type": "code",
   "execution_count": 26,
   "id": "b2de0ba8-03f3-4c05-8407-3907573a0ebb",
   "metadata": {},
   "outputs": [
    {
     "data": {
      "text/plain": [
       "12.148"
      ]
     },
     "execution_count": 26,
     "metadata": {},
     "output_type": "execute_result"
    }
   ],
   "source": [
    "round(12.147925, 3)"
   ]
  },
  {
   "cell_type": "code",
   "execution_count": 27,
   "id": "3fd92d34-f15d-42e1-a139-a033bc03879b",
   "metadata": {},
   "outputs": [
    {
     "data": {
      "text/plain": [
       "15.57198"
      ]
     },
     "execution_count": 27,
     "metadata": {},
     "output_type": "execute_result"
    }
   ],
   "source": [
    "round(15.5719770021, 5)"
   ]
  },
  {
   "cell_type": "code",
   "execution_count": 28,
   "id": "5ab6fdc7-0134-4249-9103-7db99262b0e0",
   "metadata": {},
   "outputs": [
    {
     "data": {
      "text/plain": [
       "20.4173"
      ]
     },
     "execution_count": 28,
     "metadata": {},
     "output_type": "execute_result"
    }
   ],
   "source": [
    "round(20.417310014, 4)"
   ]
  },
  {
   "cell_type": "code",
   "execution_count": 29,
   "id": "e3184711-802a-4af4-8a8d-010999cfffab",
   "metadata": {},
   "outputs": [],
   "source": [
    "# La función range() nos devuelve una secuencia de números"
   ]
  },
  {
   "cell_type": "code",
   "execution_count": 30,
   "id": "ba5e3ba0-4839-4201-92e2-729079b43d10",
   "metadata": {},
   "outputs": [
    {
     "data": {
      "text/plain": [
       "range(0, 10)"
      ]
     },
     "execution_count": 30,
     "metadata": {},
     "output_type": "execute_result"
    }
   ],
   "source": [
    "range(10)"
   ]
  },
  {
   "cell_type": "code",
   "execution_count": 32,
   "id": "fd8a9f64-5439-4c65-992e-b6a965d6cc5e",
   "metadata": {},
   "outputs": [],
   "source": [
    "# Pero para visualizarlo, tenemos que hacerlo en un bucle for"
   ]
  },
  {
   "cell_type": "code",
   "execution_count": 33,
   "id": "59e08b0a-b7c9-4e8f-ac03-e7b423335eb7",
   "metadata": {},
   "outputs": [
    {
     "name": "stdout",
     "output_type": "stream",
     "text": [
      "0\n",
      "1\n",
      "2\n",
      "3\n",
      "4\n",
      "5\n",
      "6\n",
      "7\n",
      "8\n",
      "9\n"
     ]
    }
   ],
   "source": [
    "for i in range(10):\n",
    "    print(i)"
   ]
  },
  {
   "cell_type": "code",
   "execution_count": 34,
   "id": "7b556ab0-3a1f-4c25-8ed9-a7de7652467e",
   "metadata": {},
   "outputs": [],
   "source": [
    "# Se observa que el último valor es excluyente, por lo que la forma correcta sería:"
   ]
  },
  {
   "cell_type": "code",
   "execution_count": 35,
   "id": "3e003a8a-dfc3-48f7-a56b-848aac6d5918",
   "metadata": {},
   "outputs": [
    {
     "name": "stdout",
     "output_type": "stream",
     "text": [
      "0\n",
      "1\n",
      "2\n",
      "3\n",
      "4\n",
      "5\n",
      "6\n",
      "7\n",
      "8\n",
      "9\n",
      "10\n"
     ]
    }
   ],
   "source": [
    "for i in range(10+1):\n",
    "    print(i)"
   ]
  },
  {
   "cell_type": "code",
   "execution_count": 36,
   "id": "38f3b42a-9169-4a06-b887-b597aee9bfc6",
   "metadata": {},
   "outputs": [
    {
     "name": "stdout",
     "output_type": "stream",
     "text": [
      "5\n",
      "6\n",
      "7\n",
      "8\n",
      "9\n",
      "10\n"
     ]
    }
   ],
   "source": [
    "# También podemos especificar el valor de inicio del bucle:\n",
    "for i in range(5, 10+1):\n",
    "    print(i)"
   ]
  },
  {
   "cell_type": "code",
   "execution_count": 37,
   "id": "29c73ad6-d1f7-4df9-b179-281d20834134",
   "metadata": {},
   "outputs": [
    {
     "name": "stdout",
     "output_type": "stream",
     "text": [
      "1\n",
      "3\n",
      "5\n",
      "7\n",
      "9\n"
     ]
    }
   ],
   "source": [
    "# Y también el incremento, el cual, se especifica en el tercer parámetro\n",
    "for i in range(1, 10+1, 2):\n",
    "    print(i)"
   ]
  },
  {
   "cell_type": "code",
   "execution_count": 38,
   "id": "cc38b6ae-c80a-4637-81b5-6c36ad1acdc9",
   "metadata": {},
   "outputs": [
    {
     "name": "stdout",
     "output_type": "stream",
     "text": [
      "2\n",
      "4\n",
      "6\n",
      "8\n",
      "10\n"
     ]
    }
   ],
   "source": [
    "for i in range(2, 10+1, 2):\n",
    "    print(i)"
   ]
  },
  {
   "cell_type": "code",
   "execution_count": null,
   "id": "b2c3cfca-7a3a-4d22-b80c-b02fb6760aa5",
   "metadata": {},
   "outputs": [],
   "source": []
  }
 ],
 "metadata": {
  "kernelspec": {
   "display_name": "Python 3 (ipykernel)",
   "language": "python",
   "name": "python3"
  },
  "language_info": {
   "codemirror_mode": {
    "name": "ipython",
    "version": 3
   },
   "file_extension": ".py",
   "mimetype": "text/x-python",
   "name": "python",
   "nbconvert_exporter": "python",
   "pygments_lexer": "ipython3",
   "version": "3.12.7"
  }
 },
 "nbformat": 4,
 "nbformat_minor": 5
}
