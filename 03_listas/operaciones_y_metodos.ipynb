{
 "cells": [
  {
   "cell_type": "code",
   "execution_count": 1,
   "id": "2ef9c5f6-4f60-4ace-b8c4-5055414ee071",
   "metadata": {},
   "outputs": [],
   "source": [
    "paises = [\"Argentina\", \"Brasil\", \"Estados Unidos\", \"Rusia\", \"China\"]"
   ]
  },
  {
   "cell_type": "code",
   "execution_count": 2,
   "id": "e7c85fac-5079-4bd0-b94f-007d57dbc88c",
   "metadata": {},
   "outputs": [
    {
     "data": {
      "text/plain": [
       "['Argentina', 'Brasil', 'Estados Unidos', 'Rusia', 'China']"
      ]
     },
     "execution_count": 2,
     "metadata": {},
     "output_type": "execute_result"
    }
   ],
   "source": [
    "paises"
   ]
  },
  {
   "cell_type": "code",
   "execution_count": 3,
   "id": "494e4408-892c-43fa-898e-0661b25b5345",
   "metadata": {},
   "outputs": [],
   "source": [
    "# Si queremos agregar un nuevo elemento a la lista\n",
    "# Usamos el método append()"
   ]
  },
  {
   "cell_type": "code",
   "execution_count": 4,
   "id": "2249a1eb-645b-411e-a0ac-66320263ed80",
   "metadata": {},
   "outputs": [],
   "source": [
    "paises.append(\"Canada\")"
   ]
  },
  {
   "cell_type": "code",
   "execution_count": 5,
   "id": "41d318c3-0c3f-45dd-805c-377f97ee79e7",
   "metadata": {},
   "outputs": [
    {
     "data": {
      "text/plain": [
       "['Argentina', 'Brasil', 'Estados Unidos', 'Rusia', 'China', 'Canada']"
      ]
     },
     "execution_count": 5,
     "metadata": {},
     "output_type": "execute_result"
    }
   ],
   "source": [
    "paises"
   ]
  },
  {
   "cell_type": "code",
   "execution_count": 6,
   "id": "f16a797e-ffdb-4fee-8f69-36ce7f6d7ae3",
   "metadata": {},
   "outputs": [],
   "source": [
    "paises.append(\"Japón\")"
   ]
  },
  {
   "cell_type": "code",
   "execution_count": 7,
   "id": "85a7545f-a292-43cb-a03c-034074a12a2d",
   "metadata": {},
   "outputs": [
    {
     "data": {
      "text/plain": [
       "['Argentina', 'Brasil', 'Estados Unidos', 'Rusia', 'China', 'Canada', 'Japón']"
      ]
     },
     "execution_count": 7,
     "metadata": {},
     "output_type": "execute_result"
    }
   ],
   "source": [
    "paises[:]"
   ]
  },
  {
   "cell_type": "code",
   "execution_count": 9,
   "id": "c3cd7da6-3905-4b7d-9b03-9a1c9f32f4d8",
   "metadata": {},
   "outputs": [],
   "source": [
    "# El método insert() también sirve para agregar un elemento a la lista\n",
    "# Con la diferencia es que también podemos especificar en que indice de la lista queremos agregarlo"
   ]
  },
  {
   "cell_type": "code",
   "execution_count": 10,
   "id": "db169aec-6385-410d-877e-a02bdeeeaf72",
   "metadata": {},
   "outputs": [],
   "source": [
    "paises.insert(1, \"Uruguay\")"
   ]
  },
  {
   "cell_type": "code",
   "execution_count": 11,
   "id": "8caa5a9d-3cd6-4bd3-bda1-0f6e33212263",
   "metadata": {},
   "outputs": [
    {
     "data": {
      "text/plain": [
       "['Argentina',\n",
       " 'Uruguay',\n",
       " 'Brasil',\n",
       " 'Estados Unidos',\n",
       " 'Rusia',\n",
       " 'China',\n",
       " 'Canada',\n",
       " 'Japón']"
      ]
     },
     "execution_count": 11,
     "metadata": {},
     "output_type": "execute_result"
    }
   ],
   "source": [
    "paises"
   ]
  },
  {
   "cell_type": "code",
   "execution_count": 12,
   "id": "477e55e3-8c11-4782-b325-06a8f4d1d3da",
   "metadata": {},
   "outputs": [],
   "source": [
    "paises_2 = [\"UK\", \"Alemania\", \"Arabia Saudita\"]"
   ]
  },
  {
   "cell_type": "code",
   "execution_count": 14,
   "id": "676dc530-07e9-4ca9-bbab-ca4539914abd",
   "metadata": {},
   "outputs": [
    {
     "data": {
      "text/plain": [
       "['Argentina',\n",
       " 'Uruguay',\n",
       " 'Brasil',\n",
       " 'Estados Unidos',\n",
       " 'Rusia',\n",
       " 'China',\n",
       " 'Canada',\n",
       " 'Japón',\n",
       " 'UK',\n",
       " 'Alemania',\n",
       " 'Arabia Saudita']"
      ]
     },
     "execution_count": 14,
     "metadata": {},
     "output_type": "execute_result"
    }
   ],
   "source": [
    "# Concatenar listas\n",
    "paises + paises_2"
   ]
  },
  {
   "cell_type": "code",
   "execution_count": 15,
   "id": "1749dd07-4528-48e8-a547-0548f12013a0",
   "metadata": {},
   "outputs": [],
   "source": [
    "lista_de_listas_1 = [paises, paises_2]"
   ]
  },
  {
   "cell_type": "code",
   "execution_count": 16,
   "id": "4c3ac268-0e5c-4cc3-bbc9-22ea822e2baf",
   "metadata": {},
   "outputs": [
    {
     "data": {
      "text/plain": [
       "[['Argentina',\n",
       "  'Uruguay',\n",
       "  'Brasil',\n",
       "  'Estados Unidos',\n",
       "  'Rusia',\n",
       "  'China',\n",
       "  'Canada',\n",
       "  'Japón'],\n",
       " ['UK', 'Alemania', 'Arabia Saudita']]"
      ]
     },
     "execution_count": 16,
     "metadata": {},
     "output_type": "execute_result"
    }
   ],
   "source": [
    "lista_de_listas_1"
   ]
  },
  {
   "cell_type": "code",
   "execution_count": 17,
   "id": "9ff40444-5ec4-4014-8837-1c41bf7e9872",
   "metadata": {},
   "outputs": [
    {
     "data": {
      "text/plain": [
       "'Brasil'"
      ]
     },
     "execution_count": 17,
     "metadata": {},
     "output_type": "execute_result"
    }
   ],
   "source": [
    "lista_de_listas_1[0][2]"
   ]
  },
  {
   "cell_type": "code",
   "execution_count": 18,
   "id": "486b2ac4-f910-4f48-b3fe-b29eb0c4c8b6",
   "metadata": {},
   "outputs": [
    {
     "data": {
      "text/plain": [
       "'Argentina'"
      ]
     },
     "execution_count": 18,
     "metadata": {},
     "output_type": "execute_result"
    }
   ],
   "source": [
    "lista_de_listas_1[0][0]"
   ]
  },
  {
   "cell_type": "code",
   "execution_count": 19,
   "id": "757ab058-cb24-4b9e-b79e-cf1b28194223",
   "metadata": {},
   "outputs": [
    {
     "data": {
      "text/plain": [
       "'Arabia Saudita'"
      ]
     },
     "execution_count": 19,
     "metadata": {},
     "output_type": "execute_result"
    }
   ],
   "source": [
    "lista_de_listas_1[1][2]"
   ]
  },
  {
   "cell_type": "code",
   "execution_count": 20,
   "id": "17429c31-b942-4558-970e-cd462607381d",
   "metadata": {},
   "outputs": [
    {
     "data": {
      "text/plain": [
       "['Argentina',\n",
       " 'Uruguay',\n",
       " 'Brasil',\n",
       " 'Estados Unidos',\n",
       " 'Rusia',\n",
       " 'China',\n",
       " 'Canada',\n",
       " 'Japón']"
      ]
     },
     "execution_count": 20,
     "metadata": {},
     "output_type": "execute_result"
    }
   ],
   "source": [
    "# Muestro la primer lista\n",
    "lista_de_listas_1[0][:]"
   ]
  },
  {
   "cell_type": "code",
   "execution_count": 21,
   "id": "e4a12065-b588-44ad-b7f2-e5be1ebfa119",
   "metadata": {},
   "outputs": [
    {
     "data": {
      "text/plain": [
       "['UK', 'Alemania', 'Arabia Saudita']"
      ]
     },
     "execution_count": 21,
     "metadata": {},
     "output_type": "execute_result"
    }
   ],
   "source": [
    "# La segunda\n",
    "lista_de_listas_1[1][:]"
   ]
  },
  {
   "cell_type": "code",
   "execution_count": 22,
   "id": "350397cb-c167-410c-92a0-5c8e3e0d3e39",
   "metadata": {},
   "outputs": [
    {
     "data": {
      "text/plain": [
       "['Arabia Saudita', 'Alemania', 'UK']"
      ]
     },
     "execution_count": 22,
     "metadata": {},
     "output_type": "execute_result"
    }
   ],
   "source": [
    "# La segunda lista en sentido inverso\n",
    "lista_de_listas_1[1][::-1]"
   ]
  },
  {
   "cell_type": "code",
   "execution_count": 24,
   "id": "f1f13cb6-9518-436e-a4f6-aab08040529e",
   "metadata": {},
   "outputs": [
    {
     "data": {
      "text/plain": [
       "['Argentina',\n",
       " 'Uruguay',\n",
       " 'Brasil',\n",
       " 'Estados Unidos',\n",
       " 'Rusia',\n",
       " 'China',\n",
       " 'Canada',\n",
       " 'Japón']"
      ]
     },
     "execution_count": 24,
     "metadata": {},
     "output_type": "execute_result"
    }
   ],
   "source": [
    "# Volviendo a la primer lista\n",
    "paises"
   ]
  },
  {
   "cell_type": "code",
   "execution_count": 25,
   "id": "1e8e7320-6166-4328-96fa-617b1171ac9e",
   "metadata": {},
   "outputs": [],
   "source": [
    "# Para eliminar un elemento por su valor:\n",
    "# Se usa el método .remove()"
   ]
  },
  {
   "cell_type": "code",
   "execution_count": 26,
   "id": "9064cf7b-6016-403a-96da-9c9650e9349f",
   "metadata": {},
   "outputs": [],
   "source": [
    "paises.remove(\"Rusia\")"
   ]
  },
  {
   "cell_type": "code",
   "execution_count": 27,
   "id": "38553eed-643a-4a90-96e5-393be56ba182",
   "metadata": {},
   "outputs": [
    {
     "data": {
      "text/plain": [
       "['Argentina',\n",
       " 'Uruguay',\n",
       " 'Brasil',\n",
       " 'Estados Unidos',\n",
       " 'China',\n",
       " 'Canada',\n",
       " 'Japón']"
      ]
     },
     "execution_count": 27,
     "metadata": {},
     "output_type": "execute_result"
    }
   ],
   "source": [
    "paises"
   ]
  },
  {
   "cell_type": "code",
   "execution_count": 28,
   "id": "f8e85b4f-a1c6-47b8-a143-da21a42a413c",
   "metadata": {},
   "outputs": [],
   "source": [
    "paises.remove(\"China\")"
   ]
  },
  {
   "cell_type": "code",
   "execution_count": 29,
   "id": "68703a0c-36e7-4e4c-ba1a-12c6b32c79d3",
   "metadata": {},
   "outputs": [
    {
     "data": {
      "text/plain": [
       "['Argentina', 'Uruguay', 'Brasil', 'Estados Unidos', 'Canada', 'Japón']"
      ]
     },
     "execution_count": 29,
     "metadata": {},
     "output_type": "execute_result"
    }
   ],
   "source": [
    "paises"
   ]
  },
  {
   "cell_type": "code",
   "execution_count": 30,
   "id": "70889efd-5f52-421d-9a93-fbb82bfa8305",
   "metadata": {},
   "outputs": [],
   "source": [
    "# El método .pop() elimina un elemento de una lista especificando el index"
   ]
  },
  {
   "cell_type": "code",
   "execution_count": 31,
   "id": "eee2fe2d-40a3-477d-b4a3-7afeac7c6576",
   "metadata": {},
   "outputs": [
    {
     "data": {
      "text/plain": [
       "'Brasil'"
      ]
     },
     "execution_count": 31,
     "metadata": {},
     "output_type": "execute_result"
    }
   ],
   "source": [
    "# supongamos que de la lista anterior elimino a Brasil\n",
    "paises.pop(2)"
   ]
  },
  {
   "cell_type": "code",
   "execution_count": 32,
   "id": "34ee1607-7f63-4474-a000-d46720ef3768",
   "metadata": {},
   "outputs": [
    {
     "data": {
      "text/plain": [
       "['Argentina', 'Uruguay', 'Estados Unidos', 'Canada', 'Japón']"
      ]
     },
     "execution_count": 32,
     "metadata": {},
     "output_type": "execute_result"
    }
   ],
   "source": [
    "paises"
   ]
  },
  {
   "cell_type": "code",
   "execution_count": 33,
   "id": "7f2e51a3-f971-46f0-a41a-8f9516e2c29b",
   "metadata": {},
   "outputs": [
    {
     "data": {
      "text/plain": [
       "'Uruguay'"
      ]
     },
     "execution_count": 33,
     "metadata": {},
     "output_type": "execute_result"
    }
   ],
   "source": [
    "#Ahora a Uruguay\n",
    "paises.pop(1)"
   ]
  },
  {
   "cell_type": "code",
   "execution_count": 34,
   "id": "cbf1b51f-cc7b-41ee-8f63-e86d8fd897c1",
   "metadata": {},
   "outputs": [
    {
     "data": {
      "text/plain": [
       "['Argentina', 'Estados Unidos', 'Canada', 'Japón']"
      ]
     },
     "execution_count": 34,
     "metadata": {},
     "output_type": "execute_result"
    }
   ],
   "source": [
    "paises"
   ]
  },
  {
   "cell_type": "code",
   "execution_count": 35,
   "id": "184d264a-4660-446e-86f1-31a089bf1132",
   "metadata": {},
   "outputs": [
    {
     "data": {
      "text/plain": [
       "'Estados Unidos'"
      ]
     },
     "execution_count": 35,
     "metadata": {},
     "output_type": "execute_result"
    }
   ],
   "source": [
    "# Supongamos que queremos eliminar a Estados Unidos con otro método\n",
    "paises[1]"
   ]
  },
  {
   "cell_type": "code",
   "execution_count": 36,
   "id": "4aa4db22-f27d-441e-a91a-94ce0f6458db",
   "metadata": {},
   "outputs": [],
   "source": [
    "# En este caso lo vamos a usar con una función. No con un método.\n",
    "# Usamos del\n",
    "# Para esta función, también tenemos que especificar el index"
   ]
  },
  {
   "cell_type": "code",
   "execution_count": 37,
   "id": "0abfb829-0f5d-40cb-b8bc-ab8464600553",
   "metadata": {},
   "outputs": [],
   "source": [
    "del paises[1]"
   ]
  },
  {
   "cell_type": "code",
   "execution_count": 38,
   "id": "60bfb4f0-68f1-4644-a265-a5ae0f4e50c1",
   "metadata": {},
   "outputs": [
    {
     "data": {
      "text/plain": [
       "['Argentina', 'Canada', 'Japón']"
      ]
     },
     "execution_count": 38,
     "metadata": {},
     "output_type": "execute_result"
    }
   ],
   "source": [
    "paises"
   ]
  },
  {
   "cell_type": "code",
   "execution_count": null,
   "id": "56d4076c-6941-473e-831f-05c528ebcb68",
   "metadata": {},
   "outputs": [],
   "source": []
  }
 ],
 "metadata": {
  "kernelspec": {
   "display_name": "Python 3 (ipykernel)",
   "language": "python",
   "name": "python3"
  },
  "language_info": {
   "codemirror_mode": {
    "name": "ipython",
    "version": 3
   },
   "file_extension": ".py",
   "mimetype": "text/x-python",
   "name": "python",
   "nbconvert_exporter": "python",
   "pygments_lexer": "ipython3",
   "version": "3.12.7"
  }
 },
 "nbformat": 4,
 "nbformat_minor": 5
}
