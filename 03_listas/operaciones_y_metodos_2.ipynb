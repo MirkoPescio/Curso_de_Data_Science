{
 "cells": [
  {
   "cell_type": "code",
   "execution_count": 1,
   "id": "54c80311-de8f-4e06-942f-464e5554314b",
   "metadata": {},
   "outputs": [],
   "source": [
    "# Vamos a ver metodos de ordenamientos para listas"
   ]
  },
  {
   "cell_type": "code",
   "execution_count": 2,
   "id": "b565a99c-537f-4027-9056-a6a9bb4183ee",
   "metadata": {},
   "outputs": [],
   "source": [
    "numeros = [4, 3, 10, 7, 1, 2]"
   ]
  },
  {
   "cell_type": "code",
   "execution_count": 3,
   "id": "2a324db4-e2dc-4c01-b4c5-9d761da0deca",
   "metadata": {},
   "outputs": [
    {
     "data": {
      "text/plain": [
       "[4, 3, 10, 7, 1, 2]"
      ]
     },
     "execution_count": 3,
     "metadata": {},
     "output_type": "execute_result"
    }
   ],
   "source": [
    "numeros"
   ]
  },
  {
   "cell_type": "code",
   "execution_count": 4,
   "id": "0ea2ae85-3863-4784-8d09-aa374463b44c",
   "metadata": {},
   "outputs": [],
   "source": [
    "numeros.sort()"
   ]
  },
  {
   "cell_type": "code",
   "execution_count": 5,
   "id": "f0554665-6f22-4c85-9427-3e3112357b22",
   "metadata": {},
   "outputs": [
    {
     "data": {
      "text/plain": [
       "[1, 2, 3, 4, 7, 10]"
      ]
     },
     "execution_count": 5,
     "metadata": {},
     "output_type": "execute_result"
    }
   ],
   "source": [
    "numeros"
   ]
  },
  {
   "cell_type": "code",
   "execution_count": 6,
   "id": "d0eba37a-da5d-4ef1-b0e2-f7897cdc6245",
   "metadata": {},
   "outputs": [],
   "source": [
    "# Ordenar de forma inversa\n",
    "numeros.sort(reverse=True)"
   ]
  },
  {
   "cell_type": "code",
   "execution_count": 7,
   "id": "3d14f1a0-870a-49a1-af60-f72b87a38fe4",
   "metadata": {},
   "outputs": [
    {
     "data": {
      "text/plain": [
       "[10, 7, 4, 3, 2, 1]"
      ]
     },
     "execution_count": 7,
     "metadata": {},
     "output_type": "execute_result"
    }
   ],
   "source": [
    "numeros"
   ]
  },
  {
   "cell_type": "code",
   "execution_count": null,
   "id": "814a6f78-68bd-4635-adae-84b40b19f11e",
   "metadata": {},
   "outputs": [],
   "source": []
  },
  {
   "cell_type": "code",
   "execution_count": 8,
   "id": "07bdfe21-4a98-400e-b72c-4bb76a4ecb39",
   "metadata": {},
   "outputs": [],
   "source": [
    "### Copiar una lista ###"
   ]
  },
  {
   "cell_type": "code",
   "execution_count": 9,
   "id": "dd79f5f5-2e42-4ae3-a581-fb41f7071030",
   "metadata": {},
   "outputs": [],
   "source": [
    "paises = [\"Argentina\", \"Colombia\", \"Costa Rica\"]"
   ]
  },
  {
   "cell_type": "code",
   "execution_count": 10,
   "id": "cf9fc85b-1676-407b-ad5e-83aa3b2f538a",
   "metadata": {},
   "outputs": [],
   "source": [
    "paises_2 = [\"Guatemala\", \"Mexico\", \"Puerto Rico\", \"El Salvador\"]"
   ]
  },
  {
   "cell_type": "code",
   "execution_count": 11,
   "id": "3980f691-c64a-490a-86c6-5efaf73009df",
   "metadata": {},
   "outputs": [
    {
     "data": {
      "text/plain": [
       "['Argentina', 'Colombia', 'Costa Rica']"
      ]
     },
     "execution_count": 11,
     "metadata": {},
     "output_type": "execute_result"
    }
   ],
   "source": [
    "paises.copy()"
   ]
  },
  {
   "cell_type": "code",
   "execution_count": 12,
   "id": "481d3294-4ef2-4b70-9ac1-62fcc818e1b7",
   "metadata": {},
   "outputs": [],
   "source": [
    "paises_aux = paises.copy()"
   ]
  },
  {
   "cell_type": "code",
   "execution_count": 13,
   "id": "3046b664-47bd-4dab-8099-0015b0a1c5cc",
   "metadata": {},
   "outputs": [
    {
     "data": {
      "text/plain": [
       "['Argentina', 'Colombia', 'Costa Rica']"
      ]
     },
     "execution_count": 13,
     "metadata": {},
     "output_type": "execute_result"
    }
   ],
   "source": [
    "paises_aux"
   ]
  },
  {
   "cell_type": "code",
   "execution_count": 14,
   "id": "f9e15e18-c2fa-40d0-be36-a3189d71d79d",
   "metadata": {},
   "outputs": [],
   "source": [
    "paises_2 = paises_2.copy()"
   ]
  },
  {
   "cell_type": "code",
   "execution_count": 15,
   "id": "c577f770-181a-498a-ac53-a51c1aff2bf2",
   "metadata": {},
   "outputs": [
    {
     "data": {
      "text/plain": [
       "['Guatemala', 'Mexico', 'Puerto Rico', 'El Salvador']"
      ]
     },
     "execution_count": 15,
     "metadata": {},
     "output_type": "execute_result"
    }
   ],
   "source": [
    "paises_2"
   ]
  },
  {
   "cell_type": "code",
   "execution_count": 16,
   "id": "8c7ce932-e9de-40b1-b9bd-1832efef9285",
   "metadata": {},
   "outputs": [
    {
     "data": {
      "text/plain": [
       "['Argentina', 'Colombia', 'Costa Rica']"
      ]
     },
     "execution_count": 16,
     "metadata": {},
     "output_type": "execute_result"
    }
   ],
   "source": [
    "paises_aux[:]"
   ]
  },
  {
   "cell_type": "code",
   "execution_count": 17,
   "id": "a1b6cfd8-689f-4dd7-acda-63f98b43988b",
   "metadata": {},
   "outputs": [],
   "source": [
    "paises.append(\"Australia\")"
   ]
  },
  {
   "cell_type": "code",
   "execution_count": 18,
   "id": "f5fb98dd-2cde-4380-9d56-953bf36956bd",
   "metadata": {},
   "outputs": [],
   "source": [
    "paises_aux.append(\"Escocia\")"
   ]
  },
  {
   "cell_type": "code",
   "execution_count": 19,
   "id": "11609d5d-381e-4210-aef1-3c26102c0390",
   "metadata": {},
   "outputs": [
    {
     "data": {
      "text/plain": [
       "['Argentina', 'Colombia', 'Costa Rica', 'Australia']"
      ]
     },
     "execution_count": 19,
     "metadata": {},
     "output_type": "execute_result"
    }
   ],
   "source": [
    "paises[:]"
   ]
  },
  {
   "cell_type": "code",
   "execution_count": 20,
   "id": "0680104a-502d-4915-863b-d02aab209132",
   "metadata": {},
   "outputs": [
    {
     "data": {
      "text/plain": [
       "['Argentina', 'Colombia', 'Costa Rica', 'Escocia']"
      ]
     },
     "execution_count": 20,
     "metadata": {},
     "output_type": "execute_result"
    }
   ],
   "source": [
    "paises_aux[:]"
   ]
  },
  {
   "cell_type": "code",
   "execution_count": null,
   "id": "7b2a9e82-a67d-4782-a569-7cf18860b4e2",
   "metadata": {},
   "outputs": [],
   "source": []
  }
 ],
 "metadata": {
  "kernelspec": {
   "display_name": "Python 3 (ipykernel)",
   "language": "python",
   "name": "python3"
  },
  "language_info": {
   "codemirror_mode": {
    "name": "ipython",
    "version": 3
   },
   "file_extension": ".py",
   "mimetype": "text/x-python",
   "name": "python",
   "nbconvert_exporter": "python",
   "pygments_lexer": "ipython3",
   "version": "3.12.7"
  }
 },
 "nbformat": 4,
 "nbformat_minor": 5
}
