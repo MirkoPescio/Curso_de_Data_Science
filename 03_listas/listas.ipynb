{
 "cells": [
  {
   "cell_type": "code",
   "execution_count": 3,
   "id": "e3ffb55c-2dc9-42bd-b1c1-f4b80f586646",
   "metadata": {},
   "outputs": [],
   "source": [
    "paises = ['Estados Unidos', 'India', 'China', 'Brasil']"
   ]
  },
  {
   "cell_type": "code",
   "execution_count": 4,
   "id": "6467f46f-f85b-40dc-b9cf-e25e2eec129a",
   "metadata": {},
   "outputs": [
    {
     "data": {
      "text/plain": [
       "['Estados Unidos', 'India', 'China', 'Brasil']"
      ]
     },
     "execution_count": 4,
     "metadata": {},
     "output_type": "execute_result"
    }
   ],
   "source": [
    "paises"
   ]
  },
  {
   "cell_type": "code",
   "execution_count": 5,
   "id": "9eabd4c4-6235-4380-ba7f-e260d241ada4",
   "metadata": {},
   "outputs": [
    {
     "data": {
      "text/plain": [
       "'Estados Unidos'"
      ]
     },
     "execution_count": 5,
     "metadata": {},
     "output_type": "execute_result"
    }
   ],
   "source": [
    "paises[0]"
   ]
  },
  {
   "cell_type": "code",
   "execution_count": 6,
   "id": "4d59e56a-6268-456c-b412-8ddcc357e350",
   "metadata": {},
   "outputs": [
    {
     "data": {
      "text/plain": [
       "'China'"
      ]
     },
     "execution_count": 6,
     "metadata": {},
     "output_type": "execute_result"
    }
   ],
   "source": [
    "paises[2]"
   ]
  },
  {
   "cell_type": "code",
   "execution_count": 7,
   "id": "67fe281b-2ba4-4c29-b3aa-b9080d84285d",
   "metadata": {},
   "outputs": [
    {
     "data": {
      "text/plain": [
       "'Brasil'"
      ]
     },
     "execution_count": 7,
     "metadata": {},
     "output_type": "execute_result"
    }
   ],
   "source": [
    "paises[3]"
   ]
  },
  {
   "cell_type": "code",
   "execution_count": 9,
   "id": "adfa014d-e398-48fe-8ab6-3eb50a84af14",
   "metadata": {},
   "outputs": [
    {
     "data": {
      "text/plain": [
       "'Brasil'"
      ]
     },
     "execution_count": 9,
     "metadata": {},
     "output_type": "execute_result"
    }
   ],
   "source": [
    "paises[-1]"
   ]
  },
  {
   "cell_type": "code",
   "execution_count": 11,
   "id": "4f560b3e-e99d-4421-8535-607f4b9a16b3",
   "metadata": {},
   "outputs": [
    {
     "data": {
      "text/plain": [
       "'Estados Unidos'"
      ]
     },
     "execution_count": 11,
     "metadata": {},
     "output_type": "execute_result"
    }
   ],
   "source": [
    "paises[-4]"
   ]
  },
  {
   "cell_type": "code",
   "execution_count": 12,
   "id": "06effaa0-2121-4838-97d6-48bcdd49c47f",
   "metadata": {},
   "outputs": [],
   "source": [
    "# Slices: (cortes) se usa para mostrar la lista desde un index inicio hasta un index límite\n",
    "# La escritura es la siguiente: nombre_lista[inicio:fin]"
   ]
  },
  {
   "cell_type": "code",
   "execution_count": 14,
   "id": "53dbbf91-2c31-464e-8585-979f8b2158e8",
   "metadata": {},
   "outputs": [
    {
     "data": {
      "text/plain": [
       "['India', 'China']"
      ]
     },
     "execution_count": 14,
     "metadata": {},
     "output_type": "execute_result"
    }
   ],
   "source": [
    "paises[1:3]"
   ]
  },
  {
   "cell_type": "code",
   "execution_count": 15,
   "id": "eea75860-d7b2-48fa-a79e-f0dc400f2666",
   "metadata": {},
   "outputs": [
    {
     "data": {
      "text/plain": [
       "['India', 'China', 'Brasil']"
      ]
     },
     "execution_count": 15,
     "metadata": {},
     "output_type": "execute_result"
    }
   ],
   "source": [
    "paises[1:3+1]"
   ]
  },
  {
   "cell_type": "code",
   "execution_count": 16,
   "id": "956dca6c-5813-4704-b490-2d83e9f3755f",
   "metadata": {},
   "outputs": [
    {
     "data": {
      "text/plain": [
       "['Estados Unidos', 'India', 'China', 'Brasil']"
      ]
     },
     "execution_count": 16,
     "metadata": {},
     "output_type": "execute_result"
    }
   ],
   "source": [
    "paises[:3+1]"
   ]
  },
  {
   "cell_type": "code",
   "execution_count": 17,
   "id": "94b66677-bf33-489a-91cf-eb15ee32541c",
   "metadata": {},
   "outputs": [
    {
     "data": {
      "text/plain": [
       "['Estados Unidos', 'India', 'China', 'Brasil']"
      ]
     },
     "execution_count": 17,
     "metadata": {},
     "output_type": "execute_result"
    }
   ],
   "source": [
    "paises[:]"
   ]
  },
  {
   "cell_type": "code",
   "execution_count": 18,
   "id": "99373eb0-ce13-4b9f-ba1a-bb0a9771992c",
   "metadata": {},
   "outputs": [],
   "source": [
    "# Las 2 anteriores son formas de mostrar la lista completa"
   ]
  },
  {
   "cell_type": "code",
   "execution_count": 19,
   "id": "87825bf6-78e2-43d0-a131-71115fbffc54",
   "metadata": {},
   "outputs": [],
   "source": [
    "# Digamos que quiero mostrar los primeros 3 elementos:"
   ]
  },
  {
   "cell_type": "code",
   "execution_count": 21,
   "id": "c8f0546f-edfa-4ad8-9554-9e1884cfada2",
   "metadata": {},
   "outputs": [
    {
     "data": {
      "text/plain": [
       "['Estados Unidos', 'India', 'China']"
      ]
     },
     "execution_count": 21,
     "metadata": {},
     "output_type": "execute_result"
    }
   ],
   "source": [
    "paises[0:2+1]"
   ]
  },
  {
   "cell_type": "code",
   "execution_count": 22,
   "id": "39fae41a-0067-4011-9a1c-86f241b46b02",
   "metadata": {},
   "outputs": [
    {
     "data": {
      "text/plain": [
       "['Estados Unidos', 'India', 'China']"
      ]
     },
     "execution_count": 22,
     "metadata": {},
     "output_type": "execute_result"
    }
   ],
   "source": [
    "paises[:2+1]"
   ]
  },
  {
   "cell_type": "code",
   "execution_count": 23,
   "id": "d5ff1473-b829-42aa-a3b0-dd147b5bb94c",
   "metadata": {},
   "outputs": [],
   "source": [
    "# Mostrar la lista en sentido inverso"
   ]
  },
  {
   "cell_type": "code",
   "execution_count": 24,
   "id": "68b9da42-7c0e-4306-82e1-2ca35db75938",
   "metadata": {},
   "outputs": [
    {
     "data": {
      "text/plain": [
       "['Brasil', 'China', 'India', 'Estados Unidos']"
      ]
     },
     "execution_count": 24,
     "metadata": {},
     "output_type": "execute_result"
    }
   ],
   "source": [
    "paises[::-1]"
   ]
  },
  {
   "cell_type": "code",
   "execution_count": 25,
   "id": "55034ebe-4144-42cc-adf0-d708567477cb",
   "metadata": {},
   "outputs": [],
   "source": [
    "# Primeros 3 elementos de la lista en sentido inverso:"
   ]
  },
  {
   "cell_type": "code",
   "execution_count": 34,
   "id": "f64f1ebb-034e-4ff5-ac89-da2186e6ec4c",
   "metadata": {},
   "outputs": [
    {
     "data": {
      "text/plain": [
       "['China', 'India', 'Estados Unidos']"
      ]
     },
     "execution_count": 34,
     "metadata": {},
     "output_type": "execute_result"
    }
   ],
   "source": [
    "paises[2::-1]"
   ]
  },
  {
   "cell_type": "code",
   "execution_count": null,
   "id": "25fb8ec9-b54b-4ad3-b534-b6b76b1b2d59",
   "metadata": {},
   "outputs": [],
   "source": []
  }
 ],
 "metadata": {
  "kernelspec": {
   "display_name": "Python 3 (ipykernel)",
   "language": "python",
   "name": "python3"
  },
  "language_info": {
   "codemirror_mode": {
    "name": "ipython",
    "version": 3
   },
   "file_extension": ".py",
   "mimetype": "text/x-python",
   "name": "python",
   "nbconvert_exporter": "python",
   "pygments_lexer": "ipython3",
   "version": "3.12.7"
  }
 },
 "nbformat": 4,
 "nbformat_minor": 5
}
