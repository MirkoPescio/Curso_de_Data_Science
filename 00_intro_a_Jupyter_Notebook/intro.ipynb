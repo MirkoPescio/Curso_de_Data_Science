{
 "cells": [
  {
   "cell_type": "code",
   "execution_count": 3,
   "id": "fbaaea40-47a5-4dc6-87e0-6be1342b0af9",
   "metadata": {},
   "outputs": [
    {
     "name": "stdout",
     "output_type": "stream",
     "text": [
      "Hola Mundo!!\n"
     ]
    }
   ],
   "source": [
    "print(\"Hola Mundo!!\")"
   ]
  },
  {
   "cell_type": "code",
   "execution_count": 4,
   "id": "60230b45-f5bf-42a7-8e3d-4c1be58190cc",
   "metadata": {},
   "outputs": [
    {
     "data": {
      "text/plain": [
       "'Hola Mundo!!'"
      ]
     },
     "execution_count": 4,
     "metadata": {},
     "output_type": "execute_result"
    }
   ],
   "source": [
    "\"Hola Mundo!!\""
   ]
  },
  {
   "cell_type": "code",
   "execution_count": 5,
   "id": "7aa80de4-3dcb-4600-b3a0-e8f155fc94f9",
   "metadata": {},
   "outputs": [
    {
     "name": "stdout",
     "output_type": "stream",
     "text": [
      "Mirko Pescio\n"
     ]
    }
   ],
   "source": [
    "print(\"Mirko Pescio\")"
   ]
  },
  {
   "cell_type": "code",
   "execution_count": 6,
   "id": "4d1e5aac-81fc-4353-919f-29224e94cc1a",
   "metadata": {},
   "outputs": [
    {
     "name": "stdout",
     "output_type": "stream",
     "text": [
      "25\n"
     ]
    }
   ],
   "source": [
    "print(25)"
   ]
  },
  {
   "cell_type": "code",
   "execution_count": 7,
   "id": "e26546bd-71d5-4002-a556-a5612a62d77a",
   "metadata": {},
   "outputs": [],
   "source": [
    "# Comentario de una línea"
   ]
  },
  {
   "cell_type": "code",
   "execution_count": 9,
   "id": "ae7af1f3-b920-4930-9ebb-fdb5caeaf6a9",
   "metadata": {},
   "outputs": [
    {
     "name": "stdout",
     "output_type": "stream",
     "text": [
      "Mensaje genérico\n"
     ]
    }
   ],
   "source": [
    "# Imprimiendo un mensaje\n",
    "print(\"Mensaje genérico\")"
   ]
  },
  {
   "cell_type": "code",
   "execution_count": null,
   "id": "51cf5ba4-21a0-478c-960e-122c9e289cdd",
   "metadata": {},
   "outputs": [],
   "source": []
  }
 ],
 "metadata": {
  "kernelspec": {
   "display_name": "Python 3 (ipykernel)",
   "language": "python",
   "name": "python3"
  },
  "language_info": {
   "codemirror_mode": {
    "name": "ipython",
    "version": 3
   },
   "file_extension": ".py",
   "mimetype": "text/x-python",
   "name": "python",
   "nbconvert_exporter": "python",
   "pygments_lexer": "ipython3",
   "version": "3.12.7"
  }
 },
 "nbformat": 4,
 "nbformat_minor": 5
}
