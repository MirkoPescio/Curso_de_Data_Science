{
 "cells": [
  {
   "cell_type": "code",
   "execution_count": 1,
   "id": "cb3634ac-26e8-4c97-860b-359eb0dbf34d",
   "metadata": {},
   "outputs": [],
   "source": [
    "import pandas as pd\n",
    "import numpy as np"
   ]
  },
  {
   "cell_type": "code",
   "execution_count": null,
   "id": "993d4204-a5f4-4c20-a058-1141d0744bec",
   "metadata": {},
   "outputs": [],
   "source": []
  },
  {
   "cell_type": "code",
   "execution_count": 2,
   "id": "9ad91fa2-268f-44d4-88f3-25af73b34679",
   "metadata": {},
   "outputs": [],
   "source": [
    "# Creando un dataFrame usando Diccionarios"
   ]
  },
  {
   "cell_type": "code",
   "execution_count": null,
   "id": "7d7a8599-61af-44f3-bdde-49404eaf909c",
   "metadata": {},
   "outputs": [],
   "source": []
  },
  {
   "cell_type": "code",
   "execution_count": 3,
   "id": "c77ef2c7-6a90-425b-b7cb-dcf775828451",
   "metadata": {},
   "outputs": [],
   "source": [
    "# listas usadas para el ejemplo:\n",
    "estados = [\"California\", \"Texas\", \"Florida\", \"New York\"]\n",
    "poblacion = [39613493, 29730311, 21944577, 19299981]"
   ]
  },
  {
   "cell_type": "code",
   "execution_count": 4,
   "id": "81faeb49-4c9b-4d62-b5d3-f9acf30aa469",
   "metadata": {},
   "outputs": [],
   "source": [
    "# Almacenando listas en un diccionario:\n",
    "dict_estados = {\"estados\": estados, \"poblacion\": poblacion}"
   ]
  },
  {
   "cell_type": "code",
   "execution_count": 7,
   "id": "be954ba6-a249-4e77-ba3b-34de87b70433",
   "metadata": {},
   "outputs": [],
   "source": [
    "# Creando el dataFrame:\n",
    "df_poblacion = pd.DataFrame(dict_estados)"
   ]
  },
  {
   "cell_type": "code",
   "execution_count": 8,
   "id": "a4b900f8-86db-4707-9d5f-b84f3d645257",
   "metadata": {},
   "outputs": [
    {
     "data": {
      "text/html": [
       "<div>\n",
       "<style scoped>\n",
       "    .dataframe tbody tr th:only-of-type {\n",
       "        vertical-align: middle;\n",
       "    }\n",
       "\n",
       "    .dataframe tbody tr th {\n",
       "        vertical-align: top;\n",
       "    }\n",
       "\n",
       "    .dataframe thead th {\n",
       "        text-align: right;\n",
       "    }\n",
       "</style>\n",
       "<table border=\"1\" class=\"dataframe\">\n",
       "  <thead>\n",
       "    <tr style=\"text-align: right;\">\n",
       "      <th></th>\n",
       "      <th>estados</th>\n",
       "      <th>poblacion</th>\n",
       "    </tr>\n",
       "  </thead>\n",
       "  <tbody>\n",
       "    <tr>\n",
       "      <th>0</th>\n",
       "      <td>California</td>\n",
       "      <td>39613493</td>\n",
       "    </tr>\n",
       "    <tr>\n",
       "      <th>1</th>\n",
       "      <td>Texas</td>\n",
       "      <td>29730311</td>\n",
       "    </tr>\n",
       "    <tr>\n",
       "      <th>2</th>\n",
       "      <td>Florida</td>\n",
       "      <td>21944577</td>\n",
       "    </tr>\n",
       "    <tr>\n",
       "      <th>3</th>\n",
       "      <td>New York</td>\n",
       "      <td>19299981</td>\n",
       "    </tr>\n",
       "  </tbody>\n",
       "</table>\n",
       "</div>"
      ],
      "text/plain": [
       "      estados  poblacion\n",
       "0  California   39613493\n",
       "1       Texas   29730311\n",
       "2     Florida   21944577\n",
       "3    New York   19299981"
      ]
     },
     "execution_count": 8,
     "metadata": {},
     "output_type": "execute_result"
    }
   ],
   "source": [
    "# Mostrando el dataframe:\n",
    "df_poblacion"
   ]
  },
  {
   "cell_type": "code",
   "execution_count": null,
   "id": "706047b8-6a88-4404-81b2-3afd28cf7439",
   "metadata": {},
   "outputs": [],
   "source": []
  }
 ],
 "metadata": {
  "kernelspec": {
   "display_name": "Python 3 (ipykernel)",
   "language": "python",
   "name": "python3"
  },
  "language_info": {
   "codemirror_mode": {
    "name": "ipython",
    "version": 3
   },
   "file_extension": ".py",
   "mimetype": "text/x-python",
   "name": "python",
   "nbconvert_exporter": "python",
   "pygments_lexer": "ipython3",
   "version": "3.12.7"
  }
 },
 "nbformat": 4,
 "nbformat_minor": 5
}
